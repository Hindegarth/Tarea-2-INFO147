{
 "cells": [
  {
   "cell_type": "markdown",
   "metadata": {},
   "source": [
    "# Tarea 2: ¿Es posible explicar la cantidad de billonarios en base al desarrollo país?  <a class=\"tocSkip\"></a>\n",
    "\n",
    "\n",
    "\n",
    "\n",
    "\n"
   ]
  },
  {
   "cell_type": "markdown",
   "metadata": {},
   "source": [
    "En 2006 *Daniel Treisman* publicó un artículo titulado [*Russia Billionaries*](https://pubs.aeaweb.org/doi/pdfplus/10.1257/aer.p20161068) en el cual conectó la cantidad de billonarios de un país con ciertos atributos económicos de los mismos. \n",
    "\n",
    "Su conclusión principal fue que Rusia tiene una cantidad de billonarios mayor que la que predicen los indicadores económicos\n",
    "\n",
    "En esta tarea ustedes analizarán datos macroeconómicos para comprobar o refutar los hallazgos de *D. Treisman*"
   ]
  },
  {
   "cell_type": "markdown",
   "metadata": {},
   "source": [
    "## Instrucciones generales \n",
    "\n",
    "1. Forme un grupo de **máximo tres estudiantes**\n",
    "1. Versione su trabajo usando un **repositorio privado de github**. Agregue a sus compañeros y a su profesor (usuario github: phuijse) en la pestaña *Settings/Manage access*. No se aceptarán consultas de programación si no se cumple este requisito\n",
    "1. Su tarea se evaluará en base al último commit antes de la fecha de entrega: **14:10 del Martes 15 de Junio de 2021**. La nota se calcula como (\"pt totales\" + 1)\n",
    "1. [Sean leales y honestos](https://www.acm.org/about-acm/code-of-ethics-in-spanish), no copie ni comparta resultados con otros grupos"
   ]
  },
  {
   "cell_type": "markdown",
   "metadata": {},
   "source": [
    "## Datos\n",
    "\n",
    "Para esta tarea se les provee de un conjunto de datos `billonarios.csv` indexado por país con los siguientes atributos\n",
    "\n",
    "- `nbillonarios`: La cantidad de billonarios del pais\n",
    "- `logpibpc`: El logaritmo del Producto Interno Bruto (PIB) per capita del pais\n",
    "- `logpob`: El logaritmo de la población del pais\n",
    "- `gatt`: La cantidad de años que el pais está adherido al *General Agreement on Tariffs and Trade* (GATT)"
   ]
  },
  {
   "cell_type": "markdown",
   "metadata": {},
   "source": [
    "## Modelo (1.0pt)\n",
    "\n",
    "El objetivo principal de esta tarea es entrenar un modelo de regresión que prediga la cantidad de billonarios en función de los demás atributos\n",
    "\n",
    "> El número de billonarios es una variable entera y no-negativa. \n",
    "\n",
    "Un modelo apropiado en este caso es la [regresión de Poisson](https://en.wikipedia.org/wiki/Poisson_distribution), donde definimos la probabilidad condicional para un pais $i$ como  \n",
    "$$\n",
    "p(y_i | x_i ) = \\frac{\\lambda_i^{y_i}}{y_i!} \\exp \\left ({-\\lambda_i} \\right)\n",
    "$$\n",
    "\n",
    "con intensidad\n",
    "\n",
    "$$\n",
    "\\lambda_i = \\exp \\left (\\theta_0 + \\sum_{j=1}^M \\theta_j x_{ij} \\right)\n",
    "$$\n",
    "\n",
    "donde \n",
    "\n",
    "- $\\theta$ es el vector de parámetros que deseamos ajustar \n",
    "- $y_i$ y $x_i$ son la cantidad de billonarios y el vector de atributos del país $i$, respectivamente\n",
    "\n",
    "En base a este modelo se pide que ajusten $\\theta$ mediante la maximización de la verosimilitud. \n",
    "\n",
    "$$\n",
    "\\begin{align}\n",
    "\\hat \\theta &= \\text{arg}\\max_\\theta \\log \\mathcal{L} (\\theta) \\nonumber \\\\ \n",
    "&= \\text{arg}\\max_\\theta \\log \\prod_{i=1}^N  p(y_i | x_i) \\nonumber \\\\\n",
    "&= \\text{arg}\\max_\\theta \\sum_{i=1}^N \\log p(y_i | x_i) \\nonumber\n",
    "\\end{align}\n",
    "$$\n",
    "\n",
    "En particular:\n",
    "\n",
    "1. Estudie y describa la distribución de Poisson en detalle. Muestre como varía la distribución en función de su parámetro $\\lambda$, ¿Qué ocurre cuando $\\lambda$ es pequeño? ¿Y cuando es grande?\n",
    "1. Reemplace las expresiones y obtenga una expresión analítica para el logaritmo de la verosimilitud: $\\log \\mathcal{L}(\\theta)$. Muestre la ecuación obtenida. HINT: Puede ignorar los términos que no dependan de $\\theta$. Luego obtenga una expresión analítica para la primera derivada del logaritmo de la verosimilitud. Muestra la ecuación obtenida"
   ]
  },
  {
   "attachments": {
    "image.png": {
     "image/png": "[encoded data removed]"
    }
   },
   "cell_type": "markdown",
   "metadata": {},
   "source": [
    "1) \n",
    "$$\n",
    "p(y_i | x_i ) = \\frac{\\lambda_i^{y_i}}{y_i!} \\exp \\left ({-\\lambda_i} \\right)\n",
    "$$\n",
    "\n",
    "![image.png](attachment:image.png)\n",
    "\n",
    "la distribucion de probabilidad de poisson es una distribucion de probabilidad de una variable aleatoria discreta que nos proporciona la probabilidad de que ocurra un determinado suceso un numero de veces k en un intervalo de tiempo\n",
    " $$\\lambda > 0$$ representa el número de veces que se espera que ocurra el fenómeno durante un intervalo dado\n",
    "cuando 𝜆 es mas pequeño significaria que es mas probable que el vector de atributos que estamos intentando demostrar se relacionan de mayor manera con la cantidad de billonarios\n",
    "\n",
    "y cuando 𝜆 es grande todo lo contrario, es mas probable que vector de atributos no se relacione con este\n",
    "\n"
   ]
  },
  {
   "cell_type": "markdown",
   "metadata": {},
   "source": [
    "2) \n",
    "\n",
    "\n",
    "$$\n",
    "\\begin{align}\n",
    "\\hat \\theta &= \\text{arg}\\max_\\theta \\log \\mathcal{L} (\\theta) \\nonumber \\\\ \n",
    "&= \\text{arg}\\max_\\theta \\log \\prod_{i=1}^N  p(y_i | x_i) \\nonumber \\\\\n",
    "&= \\text{arg}\\max_\\theta \\sum_{i=1}^N \\log p(y_i | x_i) \\nonumber\n",
    "\\end{align}\n",
    "$$\n",
    "\n",
    "de esto podemos sacar que \n",
    "\n",
    "$$\\ln \\mathcal{L} (\\theta) = \\ln \\prod _{i=1}^n\\left(p\\left(y_i\\:|\\:x_i\\right)\\right)  =  \\sum_{i=1}^N \\ln p(y_i | x_i)$$\n",
    "\n",
    "reemplazando los valores\n",
    "\n",
    "$$\n",
    "\\sum _{i=1}^n\\left(ln\\left(\\frac{\\left(e^{\\theta _0+\\sum \\:\\:_{j=1}^m\\left(\\theta _jx_{ij}\\:\\right)}\\right)^{y_i}\\cdot \\left(e^{-e^{\\theta \\:_0+\\sum \\:_{j=1}^m\\left(\\theta _jx_{ji}\\right)}}\\right)}{y_i!}\\right)\\right)\n",
    "$$\n",
    "\n",
    "por propiedad de logaritmo\n",
    "$$\n",
    "\\sum \\:_{i=1}^n\\left(ln\\left(\\left(e^{\\theta \\:_0+\\sum \\:\\:\\:_{j=1}^m\\left(\\theta \\:_jx_{ij}\\:\\right)}\\right)^{y_i}\\cdot \\:\\left(e^{-e^{\\theta \\:\\:_0+\\sum \\:\\:_{j=1}^m\\left(\\theta \\:_jx_{ji}\\right)}}\\right)\\right)-ln\\left(y_i!\\right)\\right)\n",
    "$$\n",
    "\n",
    "sacamos el \n",
    "\n",
    "$$\n",
    "log\\left(y_i!\\right)\n",
    "$$\n",
    "ya que no depende de \n",
    "\n",
    "$$\\theta$$\n",
    "\n",
    "\n",
    "\n"
   ]
  },
  {
   "cell_type": "markdown",
   "metadata": {},
   "source": [
    "por propiedad de logaritmo y sumatoria reducimos la expresion\n",
    "$$\n",
    "\\sum \\:\\:_{i=1}^n\\left(ln\\left(\\left(e^{\\theta \\:\\:_0+\\sum \\:\\:\\:\\:_{j=1}^m\\left(\\theta _jx_{ij}\\:\\right)}\\right)^{y_i}\\cdot \\:\\:\\left(e^{-e^{\\theta \\:\\:\\:_0+\\sum \\:\\:\\:_{j=1}^m\\left(\\theta _jx_{ij}\\right)}}\\right)\\right)\\right)\n",
    "$$\n",
    "\n"
   ]
  },
  {
   "cell_type": "markdown",
   "metadata": {},
   "source": [
    "por propiedad de ln(e)= 1\n",
    "\n",
    "por lo cual lo mas posible que podemos reducir esta expresion analítica para el logaritmo de la verosimilitud\n",
    "\n",
    "$$\n",
    "\\ln \\mathcal{L} (\\theta)= \\sum\\:\\:\\:_{i=1}^n\\left(y_i\\left(\\:\\theta \\:_0+\\sum \\:\\:\\:\\:\\:\\:_{j=1}^m\\left(\\theta \\:_jx_{ji}\\right)\\right)+-e^{\\left(\\theta \\:_0+\\sum \\:\\:\\:\\:\\:\\:_{j=1}^m\\left(\\theta \\:_jx_{ji}\\right)\\right)}\\right)$$\n",
    "\n",
    "\n",
    "\n"
   ]
  },
  {
   "cell_type": "markdown",
   "metadata": {},
   "source": [
    "ahora sacamos la derivada \n",
    "$$\n",
    "\\frac{\\partial }{\\partial \\theta }\\left(\\ln \\mathcal{L} (\\theta)\\right)\n",
    "$$"
   ]
  },
  {
   "cell_type": "markdown",
   "metadata": {},
   "source": [
    "nos da \n",
    "$$\n",
    "\\sum _{i=1}^n\\left(y_i+y_i\\left(\\sum _{j=1}^m\\left(x_{ij}\\right)\\right)\\right)+\\sum _{i=1}^n\\left(\\left(-e^{\\theta +\\sum _{j=1}^m\\left(\\theta _jx_{ij}\\right)}\\right)\\left(1+\\sum _{j=1}^m\\left(x_{ij}\\right)\\right)\\right)\n",
    "$$"
   ]
  },
  {
   "cell_type": "markdown",
   "metadata": {},
   "source": [
    "\n"
   ]
  },
  {
   "cell_type": "code",
   "execution_count": 1,
   "metadata": {},
   "outputs": [],
   "source": [
    "import nbconvert"
   ]
  },
  {
   "cell_type": "code",
   "execution_count": 2,
   "metadata": {},
   "outputs": [],
   "source": [
    "%matplotlib inline\n",
    "import matplotlib.pyplot as plt\n",
    "import numpy as np\n",
    "import pandas as pd\n",
    "from IPython.display import YouTubeVideo\n",
    "from functools import partial"
   ]
  },
  {
   "cell_type": "code",
   "execution_count": 3,
   "metadata": {
    "scrolled": true
   },
   "outputs": [
    {
     "data": {
      "text/html": [
       "<div>\n",
       "<style scoped>\n",
       "    .dataframe tbody tr th:only-of-type {\n",
       "        vertical-align: middle;\n",
       "    }\n",
       "\n",
       "    .dataframe tbody tr th {\n",
       "        vertical-align: top;\n",
       "    }\n",
       "\n",
       "    .dataframe thead th {\n",
       "        text-align: right;\n",
       "    }\n",
       "</style>\n",
       "<table border=\"1\" class=\"dataframe\">\n",
       "  <thead>\n",
       "    <tr style=\"text-align: right;\">\n",
       "      <th></th>\n",
       "      <th>nbillonarios</th>\n",
       "      <th>logpibpc</th>\n",
       "      <th>logpob</th>\n",
       "      <th>gatt</th>\n",
       "    </tr>\n",
       "    <tr>\n",
       "      <th>pais</th>\n",
       "      <th></th>\n",
       "      <th></th>\n",
       "      <th></th>\n",
       "      <th></th>\n",
       "    </tr>\n",
       "  </thead>\n",
       "  <tbody>\n",
       "    <tr>\n",
       "      <th>United States</th>\n",
       "      <td>469</td>\n",
       "      <td>10.786021</td>\n",
       "      <td>19.532846</td>\n",
       "      <td>60</td>\n",
       "    </tr>\n",
       "    <tr>\n",
       "      <th>Canada</th>\n",
       "      <td>25</td>\n",
       "      <td>10.743365</td>\n",
       "      <td>17.319439</td>\n",
       "      <td>0</td>\n",
       "    </tr>\n",
       "    <tr>\n",
       "      <th>Bahamas, The</th>\n",
       "      <td>0</td>\n",
       "      <td>10.072139</td>\n",
       "      <td>12.760934</td>\n",
       "      <td>0</td>\n",
       "    </tr>\n",
       "    <tr>\n",
       "      <th>Aruba</th>\n",
       "      <td>0</td>\n",
       "      <td>10.223734</td>\n",
       "      <td>11.526276</td>\n",
       "      <td>0</td>\n",
       "    </tr>\n",
       "    <tr>\n",
       "      <th>Bermuda</th>\n",
       "      <td>0</td>\n",
       "      <td>11.446847</td>\n",
       "      <td>11.086334</td>\n",
       "      <td>0</td>\n",
       "    </tr>\n",
       "    <tr>\n",
       "      <th>...</th>\n",
       "      <td>...</td>\n",
       "      <td>...</td>\n",
       "      <td>...</td>\n",
       "      <td>...</td>\n",
       "    </tr>\n",
       "    <tr>\n",
       "      <th>Micronesia, Fed. Sts.</th>\n",
       "      <td>0</td>\n",
       "      <td>7.824408</td>\n",
       "      <td>11.556923</td>\n",
       "      <td>0</td>\n",
       "    </tr>\n",
       "    <tr>\n",
       "      <th>Samoa</th>\n",
       "      <td>0</td>\n",
       "      <td>8.124372</td>\n",
       "      <td>12.119665</td>\n",
       "      <td>15</td>\n",
       "    </tr>\n",
       "    <tr>\n",
       "      <th>Hong Kong SAR, China</th>\n",
       "      <td>26</td>\n",
       "      <td>10.356964</td>\n",
       "      <td>15.755374</td>\n",
       "      <td>22</td>\n",
       "    </tr>\n",
       "    <tr>\n",
       "      <th>Puerto Rico</th>\n",
       "      <td>0</td>\n",
       "      <td>10.122557</td>\n",
       "      <td>15.140160</td>\n",
       "      <td>60</td>\n",
       "    </tr>\n",
       "    <tr>\n",
       "      <th>West Bank and Gaza</th>\n",
       "      <td>0</td>\n",
       "      <td>7.525887</td>\n",
       "      <td>15.095524</td>\n",
       "      <td>0</td>\n",
       "    </tr>\n",
       "  </tbody>\n",
       "</table>\n",
       "<p>197 rows × 4 columns</p>\n",
       "</div>"
      ],
      "text/plain": [
       "                       nbillonarios   logpibpc     logpob  gatt\n",
       "pais                                                           \n",
       "United States                   469  10.786021  19.532846    60\n",
       "Canada                           25  10.743365  17.319439     0\n",
       "Bahamas, The                      0  10.072139  12.760934     0\n",
       "Aruba                             0  10.223734  11.526276     0\n",
       "Bermuda                           0  11.446847  11.086334     0\n",
       "...                             ...        ...        ...   ...\n",
       "Micronesia, Fed. Sts.             0   7.824408  11.556923     0\n",
       "Samoa                             0   8.124372  12.119665    15\n",
       "Hong Kong SAR, China             26  10.356964  15.755374    22\n",
       "Puerto Rico                       0  10.122557  15.140160    60\n",
       "West Bank and Gaza                0   7.525887  15.095524     0\n",
       "\n",
       "[197 rows x 4 columns]"
      ]
     },
     "execution_count": 3,
     "metadata": {},
     "output_type": "execute_result"
    }
   ],
   "source": [
    "df = pd.read_csv('billonarios.csv', index_col=0)\n",
    "df\n"
   ]
  },
  {
   "cell_type": "code",
   "execution_count": 4,
   "metadata": {},
   "outputs": [],
   "source": [
    "data_matrix = df.to_numpy()"
   ]
  },
  {
   "cell_type": "code",
   "execution_count": 5,
   "metadata": {},
   "outputs": [],
   "source": [
    "data_matrix = data_matrix.transpose()"
   ]
  },
  {
   "cell_type": "code",
   "execution_count": 6,
   "metadata": {},
   "outputs": [],
   "source": [
    "nbillonarios = data_matrix[0]\n",
    "datos = np.array([data_matrix[1],data_matrix[2],data_matrix[3]])#[logpibpc,logpob,gatt]\n",
    "datos = datos.transpose()"
   ]
  },
  {
   "cell_type": "code",
   "execution_count": 7,
   "metadata": {},
   "outputs": [],
   "source": [
    "paises = (df.index).tolist()"
   ]
  },
  {
   "cell_type": "markdown",
   "metadata": {},
   "source": [
    "## Implementación (1.5pt)\n",
    "\n",
    "1. Implemente el logaritmo de la verosimilitud y su derivada usando `numpy`. Utilice operaciones vectoriales (prohibido usar `for` para iterar en los países)\n",
    "1. Implemente una rutina que encuentre el vector de parámetros óptimo en base a `scipy.optimize.minimize` \n",
    "1. Implemente una rutina que calcule el pseudo coeficiente de correlación\n",
    "$$\n",
    "R^2 = \\frac{\\log \\mathcal{L} (\\hat \\theta_0) - \\log \\mathcal{L} (\\hat \\theta) }{\\log \\mathcal{L} (\\hat \\theta_0)} \\in [0, 1]\n",
    "$$\n",
    "donde $\\log \\mathcal{L} (\\hat \\theta)$ es el logaritmo de la verosimilitud de su mejor modelo y $\\log \\mathcal{L} (\\hat \\theta_0)$ es el logaritmo de la verosimilitud de un modelo que tiene sólo el parámetro $\\theta_0$\n",
    "1. Implemente una rutina de bootstrap resampling para encontrar la distribución y los intervalos de confianza empíricos para $\\theta$ y el pseudo coeficiente de correlación\n"
   ]
  },
  {
   "cell_type": "markdown",
   "metadata": {},
   "source": [
    "1. Implemente el logaritmo de la verosimilitud y su derivada usando `numpy`. Utilice operaciones vectoriales (prohibido usar `for` para iterar en los países)\n",
    "$$\n",
    "\\ln \\mathcal{L} (\\theta)= \\sum\\:\\:\\:_{i=1}^n\\left(y_i\\left(\\:\\theta \\:_0+\\sum \\:\\:\\:\\:\\:\\:_{j=1}^m\\left(\\theta \\:_jx_{ji}\\right)\\right)+-e^{\\left(\\theta \\:_0+\\sum \\:\\:\\:\\:\\:\\:_{j=1}^m\\left(\\theta \\:_jx_{ji}\\right)\\right)}\\right)\n",
    "$$"
   ]
  },
  {
   "cell_type": "code",
   "execution_count": 8,
   "metadata": {},
   "outputs": [],
   "source": [
    "theta_TEST= np.array([0.001 , 0.001, 0.001, 0.001])"
   ]
  },
  {
   "cell_type": "code",
   "execution_count": 9,
   "metadata": {},
   "outputs": [
    {
     "data": {
      "text/plain": [
       "3897.631714197786"
      ]
     },
     "execution_count": 9,
     "metadata": {},
     "output_type": "execute_result"
    }
   ],
   "source": [
    "nuevo = []\n",
    "for i in range(len(nbillonarios)):\n",
    "    temp = 0;\n",
    "    for j in range(1,nbillonarios[i].astype(np.int64)+1):\n",
    "        temp = temp + np.log(j)\n",
    "    nuevo = np.append(nuevo, temp)\n",
    "nuevo = np.sum(nuevo)\n",
    "nuevo"
   ]
  },
  {
   "cell_type": "code",
   "execution_count": 10,
   "metadata": {},
   "outputs": [],
   "source": [
    "theta_global = []"
   ]
  },
  {
   "cell_type": "code",
   "execution_count": 11,
   "metadata": {
    "scrolled": true
   },
   "outputs": [
    {
     "name": "stdout",
     "output_type": "stream",
     "text": [
      "0.030490575881961045\n"
     ]
    }
   ],
   "source": [
    "def logveri(theta,yxi):\n",
    "    y,x,i = yxi[0],yxi[1],yxi[2]\n",
    "    theta_cero = theta[0]\n",
    "    theta_uno = theta[1] \n",
    "    theta_dos = theta[2]\n",
    "    theta_tres =theta[3]\n",
    "    a = x*[theta_uno,theta_dos,theta_tres]\n",
    "    a = a.sum(axis=1)\n",
    "    a = a+theta_cero\n",
    "    h = np.max(a)\n",
    "    b = np.exp(a)\n",
    "    b = -b\n",
    "    lgl = (y*(a)+b)/i\n",
    "    lgl = np.sum(lgl)\n",
    "    lgl = -lgl\n",
    "    return lgl\n",
    "print(logveri(theta_TEST,[nbillonarios,datos,nuevo]))\n"
   ]
  },
  {
   "cell_type": "markdown",
   "metadata": {
    "scrolled": true
   },
   "source": [
    "$$\n",
    "\\sum _{i=1}^n\\left(y_i+y_i\\left(\\sum _{j=1}^m\\left(x_{ij}\\right)\\right)\\right)+\\sum _{i=1}^n\\left(\\left(-e^{\\theta +\\sum _{j=1}^m\\left(\\theta _jx_{ij}\\right)}\\right)\\left(1+\\sum _{j=1}^m\\left(x_{ij}\\right)\\right)\\right)\n",
    "$$"
   ]
  },
  {
   "cell_type": "code",
   "execution_count": 12,
   "metadata": {},
   "outputs": [],
   "source": [
    "def derivadalgl(theta,yx):\n",
    "    x = yx[1]\n",
    "    y = yx[0]\n",
    "    a = x.sum(axis = 1)\n",
    "    b = x*[theta[1],theta[2],theta[3]]\n",
    "    b = b.sum(axis=1)\n",
    "    b = b+theta[0]\n",
    "    primera = y + y*a\n",
    "    segunda = -np.exp(b)*(1+a)\n",
    "    resultado = primera-segunda\n",
    "    resultado = np.sum(resultado)\n",
    "    resultado = resultado\n",
    "    return resultado\n"
   ]
  },
  {
   "cell_type": "code",
   "execution_count": 13,
   "metadata": {
    "scrolled": true
   },
   "outputs": [
    {
     "name": "stdout",
     "output_type": "stream",
     "text": [
      "98779.55667994996\n"
     ]
    }
   ],
   "source": [
    "print(derivadalgl(theta_TEST,[nbillonarios,datos]))"
   ]
  },
  {
   "cell_type": "markdown",
   "metadata": {},
   "source": [
    "2) Implemente una rutina que encuentre el vector de parámetros óptimo en base a `scipy.optimize.minimize`\n",
    "\n",
    "para optimizar el logaritmo de  verosimilitud sacamos el \n",
    "$$\n",
    "log\\left(y_i!\\right)\n",
    "$$\n",
    "aqui lo usamos para sacar los valores de toda la funcion \n",
    "$$\n",
    "\\sum _{i=1}^n\\left(\\frac{\\left(y_i\\left(\\:\\theta _0+\\sum _{j=1}^m\\left(\\theta _jx_{ji}\\right)\\right)+-e^{\\left(\\theta _0+\\sum _{j=1}^m\\left(\\theta _jx_{ji}\\right)\\right)}\\right)}{ln\\left(y_i!\\right)}\\right)\n",
    "$$\n"
   ]
  },
  {
   "cell_type": "code",
   "execution_count": 14,
   "metadata": {},
   "outputs": [],
   "source": [
    "import scipy.optimize as spo "
   ]
  },
  {
   "cell_type": "code",
   "execution_count": 15,
   "metadata": {},
   "outputs": [],
   "source": [
    "theta_inicial = np.array([0.01,0.01,0.01,0.01])\n",
    "argumentos = [nbillonarios,datos,nuevo]"
   ]
  },
  {
   "cell_type": "code",
   "execution_count": 16,
   "metadata": {
    "scrolled": false
   },
   "outputs": [
    {
     "name": "stdout",
     "output_type": "stream",
     "text": [
      "Optimization terminated successfully.\n",
      "         Current function value: -0.887486\n",
      "         Iterations: 22\n",
      "         Function evaluations: 135\n",
      "         Gradient evaluations: 27\n",
      "el valor optimo de 𝜃 es\n",
      "[-2.90495211e+01  1.08385572e+00  1.17136169e+00  5.96771379e-03]\n"
     ]
    }
   ],
   "source": [
    "result = spo.minimize(logveri,theta_inicial,argumentos,options = {\"disp\":True})\n",
    "if result.success:\n",
    "    print(\"el valor optimo de 𝜃 es\")\n",
    "    teta = result.x\n",
    "    print(teta)\n",
    "else:\n",
    "    print(\"no se pudo sacar el valor optimo\")"
   ]
  },
  {
   "cell_type": "code",
   "execution_count": 17,
   "metadata": {},
   "outputs": [],
   "source": [
    "theta_optimo =  np.array([-2.90494739e+01 , 1.08385387e+00 , 1.17136006e+00 , 5.96775458e-03])"
   ]
  },
  {
   "cell_type": "markdown",
   "metadata": {},
   "source": [
    "3) Implemente una rutina que calcule el pseudo coeficiente de correlación.\n",
    "Para esto tenemos lo siguiente:\n",
    "\\begin{align}\n",
    "\\text{arg}\\max_\\theta \\log \\mathcal{L} (\\theta_0) \\nonumber \\\\ \n",
    "\\end{align}\n",
    "La solución de máxima log verosimilitud para este modelo lambda tiene solución analítica cerrada, por lo tanto, el valor de este es el siguiente"
   ]
  },
  {
   "cell_type": "code",
   "execution_count": 18,
   "metadata": {},
   "outputs": [
    {
     "data": {
      "text/plain": [
       "1.736092924977056"
      ]
     },
     "execution_count": 18,
     "metadata": {},
     "output_type": "execute_result"
    }
   ],
   "source": [
    "theta_0=np.log(np.mean(nbillonarios))\n",
    "theta_0"
   ]
  },
  {
   "cell_type": "markdown",
   "metadata": {},
   "source": [
    "Hay que tener entendido que usamos el valor en negativo debido a la estructura de la funcion, si buscabamos el valor negativo en una funcion la cual va a -∞, siempre iba a resultar en valores sin punto de convergencia. si usamos el valor en positivo obtenemos un valor que si se adhiere a los parametros que buscamos."
   ]
  },
  {
   "cell_type": "code",
   "execution_count": 19,
   "metadata": {
    "scrolled": true
   },
   "outputs": [],
   "source": [
    "o = logveri(theta_optimo,[nbillonarios,datos,nuevo])\n",
    "o = -o"
   ]
  },
  {
   "cell_type": "code",
   "execution_count": 20,
   "metadata": {},
   "outputs": [
    {
     "data": {
      "text/plain": [
       "0.48880295108615823"
      ]
     },
     "execution_count": 20,
     "metadata": {},
     "output_type": "execute_result"
    }
   ],
   "source": [
    "(theta_0-o)/theta_0"
   ]
  },
  {
   "cell_type": "markdown",
   "metadata": {},
   "source": []
  },
  {
   "cell_type": "markdown",
   "metadata": {},
   "source": [
    "4) Implemente una rutina de bootstrap resampling para encontrar la distribución y los intervalos de confianza empíricos para $\\theta$ y el pseudo coeficiente de correlación"
   ]
  },
  {
   "cell_type": "markdown",
   "metadata": {},
   "source": [
    "Para realizar la distribucion y encontrar el intervalo de confianza empirico en theta, se creo un arreglo de 4 parametros en el cual se evaluan los logaritmos, donde a su vez se obtienen sus coeficientes, de esta manera obtendremos un arreglo en el cual al hacer un histograma, nos muestre la distribucion de este y su intervalo. "
   ]
  },
  {
   "cell_type": "code",
   "execution_count": 21,
   "metadata": {
    "scrolled": true
   },
   "outputs": [
    {
     "name": "stdout",
     "output_type": "stream",
     "text": [
      "490\n"
     ]
    },
    {
     "data": {
      "text/plain": [
       "matrix([[0.0499, 0.0499, 0.0499, 0.0499]])"
      ]
     },
     "execution_count": 21,
     "metadata": {},
     "output_type": "execute_result"
    }
   ],
   "source": [
    "\n",
    "hola=np.arange(0.001,0.05,0.0001)\n",
    "hola.shape[0]\n",
    "print(hola.shape[0])\n",
    "x = np.matrix([hola,hola,hola,hola])\n",
    "x=np.transpose(x)\n",
    "x\n",
    "\n",
    "def corcoef(theta_0,theta_normie):\n",
    "    return((theta_0-theta_normie)/theta_0)\n",
    "y = []\n",
    "coef = []\n",
    "for i in range(hola.shape[0]):\n",
    "    theta = [x[i,0],x[i,1],x[i,2],x[i,3]]\n",
    "    y.append(logveri(theta,[nbillonarios,datos,nuevo]))\n",
    "    coef.append(corcoef(theta_0,logveri(theta,[nbillonarios,datos,nuevo])))\n",
    "ynp = np.array(y)\n",
    "\n",
    "y = []\n",
    "for i in range(hola.shape[0]):\n",
    "    theta = [x[i,0],x[i,1],x[i,2],x[i,3]]\n",
    "    y.append(logveri(theta_TEST,[nbillonarios,datos,nuevo]))\n",
    "maximo = ynp.max()\n",
    "\n",
    "a = np.where(ynp == maximo)\n",
    "x[a]"
   ]
  },
  {
   "cell_type": "code",
   "execution_count": 22,
   "metadata": {},
   "outputs": [
    {
     "name": "stdout",
     "output_type": "stream",
     "text": [
      "Intervalo de confianza al 95% de r: [-0.39429343  0.01411995]\n"
     ]
    },
    {
     "data": {
      "image/png": "[encoded data removed]",
      "text/plain": [
       "<Figure size 720x360 with 1 Axes>"
      ]
     },
     "metadata": {
      "needs_background": "light"
     },
     "output_type": "display_data"
    }
   ],
   "source": [
    "fig, ax = plt.subplots(figsize=(10, 5), tight_layout=True)\n",
    "hist_val, hist_lim, _ = ax.hist(ynp, bins=20, density=True)\n",
    "\n",
    "IC = np.percentile(ynp, [2.5, 97.5])\n",
    "ax.plot([IC[0]]*2, [0, np.max(hist_val)], 'k--', lw=2)\n",
    "ax.plot([IC[1]]*2, [0, np.max(hist_val)], 'k--', lw=2)\n",
    "\n",
    "print(f\"Intervalo de confianza al 95% de r: {IC}\")"
   ]
  },
  {
   "cell_type": "markdown",
   "metadata": {},
   "source": [
    "## Resultados (3pt)\n",
    "\n",
    "1. Compare los métodos `CG`, `BFGS`, `Nelder-mead` y `Powell` en términos del vector de parámetros obtenido, la log verosimilitud alcanzada, el pseudo coeficiente de correlación alcanzado, el número de iteraciones necesarias para converger y el tiempo total para converger. Seleccione uno de los métodos para contestar los siguientes puntos\n",
    "1. Muestre las distribuciones empíricas de los parámetros y del pseudo coeficiente de correlación. ¿Cuáles parámetros tienen $\\theta$ significativamente distinto de cero? ¿Cuál es el intervalo de confianza al 95% del $R^2$? En base a esto ¿Qué puede decir sobre su modelo?\n",
    "1. Prediga la cantidad de billonarios de cada país usando su modelo. Gráfique el error entre la cantidad de billonarios predicha y la cantidad de billonarios real. El gráfico debe mostrar los paises ordenados de mayor a menor **error absoluto**.  Analice ¿Cuáles son los 5 países con mayor error en la predicción? ¿Cuáles países tienen un exceso de billonarios? ¿Cúales paises tienen menos billonarios de lo esperado? ¿Qué puede decir sobre Rusia?\n",
    "\n"
   ]
  },
  {
   "cell_type": "markdown",
   "metadata": {},
   "source": [
    "Metodo CG"
   ]
  },
  {
   "cell_type": "code",
   "execution_count": 23,
   "metadata": {},
   "outputs": [],
   "source": [
    "from time import time"
   ]
  },
  {
   "cell_type": "code",
   "execution_count": 24,
   "metadata": {},
   "outputs": [],
   "source": [
    "theta_inicial = np.array([0.0039, 0.0039, 0.0039, 0.0039])\n",
    "argumentos = [nbillonarios,datos,nuevo]\n",
    "bnds = [(0.001,0.05),(0.001,0.05),(0.001,0.05),(0.001,0.05)]"
   ]
  },
  {
   "cell_type": "code",
   "execution_count": 25,
   "metadata": {},
   "outputs": [
    {
     "name": "stdout",
     "output_type": "stream",
     "text": [
      "Warning: Desired error not necessarily achieved due to precision loss.\n",
      "         Current function value: -0.026690\n",
      "         Iterations: 0\n",
      "         Function evaluations: 44\n",
      "         Gradient evaluations: 32\n",
      "no se pudo encontrar el optimo\n",
      "Wall time: 9 ms\n"
     ]
    }
   ],
   "source": [
    "%%time\n",
    "result = spo.minimize(logveri,theta_inicial,argumentos,method = \"CG\",jac=derivadalgl,options = {\"disp\":True})\n",
    "if result.success:\n",
    "    print(\"el valor optimo de 𝜃 es\")\n",
    "    teta = result.x\n",
    "    print(teta)\n",
    "else:\n",
    "    print(\"no se pudo encontrar el optimo\")\n"
   ]
  },
  {
   "cell_type": "markdown",
   "metadata": {},
   "source": [
    "Metodo BFGS"
   ]
  },
  {
   "cell_type": "code",
   "execution_count": 29,
   "metadata": {
    "scrolled": true
   },
   "outputs": [
    {
     "name": "stdout",
     "output_type": "stream",
     "text": [
      "Optimization terminated successfully.\n",
      "         Current function value: -0.887486\n",
      "         Iterations: 22\n",
      "         Function evaluations: 140\n",
      "         Gradient evaluations: 28\n",
      "el valor optimo de 𝜃 es\n",
      "[-2.90494476e+01  1.08385395e+00  1.17135860e+00  5.96775469e-03]\n",
      "el tiempo que se demoro fue\n",
      "Wall time: 16 ms\n"
     ]
    }
   ],
   "source": [
    "%%time\n",
    "result = spo.minimize(logveri,theta_inicial,argumentos,method = \"BFGS\",options = {\"disp\":True})\n",
    "if result.success:\n",
    "    print(\"el valor optimo de 𝜃 es\")\n",
    "    teta = result.x\n",
    "    print(teta)\n",
    "else:\n",
    "    print(\"no se pudo encontrar el optimo\")\n",
    "print(\"el tiempo que se demoro fue\")\n"
   ]
  },
  {
   "cell_type": "code",
   "execution_count": 30,
   "metadata": {},
   "outputs": [],
   "source": [
    "theta_BFGS=np.array([-2.90494980e+01 , 1.08385466e+00 , 1.17136095e+00 , 5.96774671e-03])"
   ]
  },
  {
   "cell_type": "code",
   "execution_count": 31,
   "metadata": {},
   "outputs": [
    {
     "data": {
      "text/plain": [
       "-0.8874855798893844"
      ]
     },
     "execution_count": 31,
     "metadata": {},
     "output_type": "execute_result"
    }
   ],
   "source": [
    "oBFGS = logveri(theta_BFGS,[nbillonarios,datos,nuevo])\n",
    "oBFGS"
   ]
  },
  {
   "cell_type": "code",
   "execution_count": 32,
   "metadata": {},
   "outputs": [
    {
     "data": {
      "text/plain": [
       "0.488802951085632"
      ]
     },
     "execution_count": 32,
     "metadata": {},
     "output_type": "execute_result"
    }
   ],
   "source": [
    "(theta_0+oBFGS)/theta_0"
   ]
  },
  {
   "cell_type": "markdown",
   "metadata": {},
   "source": [
    "Metodo Nelder-mead"
   ]
  },
  {
   "cell_type": "code",
   "execution_count": 33,
   "metadata": {
    "scrolled": false
   },
   "outputs": [
    {
     "name": "stdout",
     "output_type": "stream",
     "text": [
      "Optimization terminated successfully.\n",
      "         Current function value: -0.401197\n",
      "         Iterations: 165\n",
      "         Function evaluations: 287\n",
      "el valor optimo de 𝜃 es\n",
      "[-0.05758485 -0.0395339   0.06584202  0.03629527]\n",
      "el tiempo que se demoro fue\n",
      "Wall time: 18 ms\n"
     ]
    }
   ],
   "source": [
    "%%time\n",
    "result = spo.minimize(logveri,theta_inicial,argumentos,method = \"Nelder-mead\",options = {\"disp\":True})\n",
    "if result.success:\n",
    "    print(\"el valor optimo de 𝜃 es\")\n",
    "    teta = result.x\n",
    "    print(teta)\n",
    "else:\n",
    "    print(\"no se pudo encontrar el optimo\")\n",
    "print(\"el tiempo que se demoro fue\")"
   ]
  },
  {
   "cell_type": "code",
   "execution_count": 34,
   "metadata": {},
   "outputs": [],
   "source": [
    "theta_N=np.array([0.05758485, -0.0395339 , 0.06584202 ,0.03629527])"
   ]
  },
  {
   "cell_type": "code",
   "execution_count": 35,
   "metadata": {},
   "outputs": [
    {
     "data": {
      "text/plain": [
       "-0.39369465857339286"
      ]
     },
     "execution_count": 35,
     "metadata": {},
     "output_type": "execute_result"
    }
   ],
   "source": [
    "oN = logveri(theta_N,[nbillonarios,datos,nuevo])\n",
    "oN"
   ]
  },
  {
   "cell_type": "code",
   "execution_count": 36,
   "metadata": {},
   "outputs": [
    {
     "data": {
      "text/plain": [
       "0.7732295011923996"
      ]
     },
     "execution_count": 36,
     "metadata": {},
     "output_type": "execute_result"
    }
   ],
   "source": [
    "(theta_0+oN)/theta_0"
   ]
  },
  {
   "cell_type": "markdown",
   "metadata": {},
   "source": [
    "Metodo Powell"
   ]
  },
  {
   "cell_type": "code",
   "execution_count": 37,
   "metadata": {
    "scrolled": true
   },
   "outputs": [
    {
     "name": "stdout",
     "output_type": "stream",
     "text": [
      "Optimization terminated successfully.\n",
      "         Current function value: -0.396668\n",
      "         Iterations: 8\n",
      "         Function evaluations: 789\n",
      "el valor optimo de 𝜃 es\n",
      "[0.001      0.02999655 0.02895732 0.03468754]\n",
      "el tiempo que se demoro fue\n",
      "Wall time: 67 ms\n"
     ]
    }
   ],
   "source": [
    "%%time\n",
    "result = spo.minimize(logveri,theta_inicial,argumentos,method = \"Powell\",options = {\"disp\":True},bounds = bnds)\n",
    "if result.success:\n",
    "    print(\"el valor optimo de 𝜃 es\")\n",
    "    teta = result.x\n",
    "    print(teta)\n",
    "else:\n",
    "    print(\"no se pudo encontrar el optimo\")\n",
    "print(\"el tiempo que se demoro fue\")\n",
    "\n"
   ]
  },
  {
   "cell_type": "code",
   "execution_count": 38,
   "metadata": {},
   "outputs": [],
   "source": [
    "thetaP = np.array([0.001   ,   0.02999655 ,0.02895732, 0.03468754])"
   ]
  },
  {
   "cell_type": "code",
   "execution_count": 39,
   "metadata": {},
   "outputs": [
    {
     "data": {
      "text/plain": [
       "-0.39666774847440345"
      ]
     },
     "execution_count": 39,
     "metadata": {},
     "output_type": "execute_result"
    }
   ],
   "source": [
    "oP = logveri(thetaP,[nbillonarios,datos,nuevo])\n",
    "oP"
   ]
  },
  {
   "cell_type": "code",
   "execution_count": 40,
   "metadata": {},
   "outputs": [
    {
     "data": {
      "text/plain": [
       "0.7715169834704293"
      ]
     },
     "execution_count": 40,
     "metadata": {},
     "output_type": "execute_result"
    }
   ],
   "source": [
    "(theta_0+oP)/theta_0"
   ]
  },
  {
   "cell_type": "markdown",
   "metadata": {},
   "source": [
    "El metodo que vamos a utilizar sera Nelder-Mead, dado a que es el que mayor valor de coeficiente de correlacion tuvo, por lo que, significa que es el que tiene mayor porcentaje de fiabilidad en los resultados. Ademas hay que tener presente que demora 3 veces menos que el segundo con mejores resultados."
   ]
  },
  {
   "cell_type": "code",
   "execution_count": 41,
   "metadata": {},
   "outputs": [],
   "source": [
    "theta_global = []"
   ]
  },
  {
   "cell_type": "code",
   "execution_count": 42,
   "metadata": {},
   "outputs": [],
   "source": [
    "def logveri2(theta,yxi):\n",
    "    y,x,i = yxi[0],yxi[1],yxi[2]\n",
    "    theta_cero = theta[0]\n",
    "    theta_uno = theta[1] \n",
    "    theta_dos = theta[2]\n",
    "    theta_tres =theta[3]\n",
    "    a = x*[theta_uno,theta_dos,theta_tres]\n",
    "    a = a.sum(axis=1)\n",
    "    a = a+theta_cero\n",
    "    h = np.max(a)\n",
    "    b = np.exp(a)\n",
    "    b = -b\n",
    "    lgl = (y*(a)+b)/i\n",
    "    lgl = np.sum(lgl)\n",
    "    lgl = -lgl\n",
    "    global theta_global\n",
    "    theta_global.append(theta)\n",
    "    return lgl"
   ]
  },
  {
   "cell_type": "code",
   "execution_count": 43,
   "metadata": {
    "scrolled": false
   },
   "outputs": [
    {
     "name": "stdout",
     "output_type": "stream",
     "text": [
      "Optimization terminated successfully.\n",
      "         Current function value: -0.401197\n",
      "         Iterations: 165\n",
      "         Function evaluations: 287\n",
      "el valor optimo de 𝜃 es\n",
      "[-0.05758485 -0.0395339   0.06584202  0.03629527]\n",
      "el tiempo que se demoro fue\n"
     ]
    }
   ],
   "source": [
    "result = spo.minimize(logveri2,theta_inicial,argumentos,method = \"Nelder-mead\",options = {\"disp\":True})\n",
    "if result.success:\n",
    "    print(\"el valor optimo de 𝜃 es\")\n",
    "    teta = result.x\n",
    "    print(teta)\n",
    "else:\n",
    "    print(\"no se pudo encontrar el optimo\")\n",
    "print(\"el tiempo que se demoro fue\")\n"
   ]
  },
  {
   "cell_type": "code",
   "execution_count": 44,
   "metadata": {},
   "outputs": [
    {
     "data": {
      "text/plain": [
       "[array([0.0039, 0.0039, 0.0039, 0.0039]),\n",
       " array([0.004095, 0.0039  , 0.0039  , 0.0039  ]),\n",
       " array([0.0039  , 0.004095, 0.0039  , 0.0039  ]),\n",
       " array([0.0039  , 0.0039  , 0.004095, 0.0039  ]),\n",
       " array([0.0039  , 0.0039  , 0.0039  , 0.004095]),\n",
       " array([0.0039975, 0.0039975, 0.0039975, 0.0039975]),\n",
       " array([0.00375375, 0.00404625, 0.00404625, 0.00404625]),\n",
       " array([0.00358312, 0.00411937, 0.00411937, 0.00411937]),\n",
       " array([0.00379031, 0.00386344, 0.00415594, 0.00415594]),\n",
       " array([0.00373547, 0.00374766, 0.00428391, 0.00428391]),\n",
       " array([0.00370805, 0.00398227, 0.00405539, 0.00434789]),\n",
       " array([0.00361207, 0.0040234 , 0.00403559, 0.00457184]),\n",
       " array([0.00341783, 0.00389771, 0.00417193, 0.00453756]),\n",
       " array([0.00327425, 0.00399407, 0.0044054 , 0.00466134]),\n",
       " array([0.00296137, 0.00404111, 0.0046581 , 0.00494451]),\n",
       " array([0.00328025, 0.00373556, 0.00445539, 0.00504953]),\n",
       " array([0.00290029, 0.00410124, 0.0043766 , 0.00526781]),\n",
       " array([0.0024827 , 0.00427803, 0.00442294, 0.00575976]),\n",
       " array([0.00275036, 0.00414133, 0.00461408, 0.00562526]),\n",
       " array([0.00212527, 0.00407462, 0.00503967, 0.00611769]),\n",
       " array([0.00138187, 0.00410023, 0.00554171, 0.00689062]),\n",
       " array([0.00150791, 0.00454478, 0.00516303, 0.00656054]),\n",
       " array([0.00110005, 0.00449108, 0.00521278, 0.00747358]),\n",
       " array([0.00016939, 0.00471606, 0.00549012, 0.00873812]),\n",
       " array([2.05766344e-05, 4.67821714e-03, 5.69482156e-03, 8.34926263e-03]),\n",
       " array([-0.00094283,  0.00474162,  0.00652189,  0.00950951]),\n",
       " array([-0.00265559,  0.00497342,  0.00757137,  0.01138439]),\n",
       " array([-0.00204978,  0.00468918,  0.00698598,  0.01112065]),\n",
       " array([-0.00363958,  0.00542821,  0.00732943,  0.01290559]),\n",
       " array([-0.0061503 ,  0.0060922 ,  0.00822329,  0.01591308]),\n",
       " array([-0.00536372,  0.00555721,  0.00844056,  0.01522886]),\n",
       " array([-0.00827909,  0.00593994,  0.01012048,  0.01808537]),\n",
       " array([-0.01250333,  0.00655188,  0.01243567,  0.02275899]),\n",
       " array([-0.01128668,  0.00689817,  0.01134946,  0.021522  ]),\n",
       " array([-0.01499642,  0.00757631,  0.01265312,  0.02632708]),\n",
       " array([-0.02116684,  0.00887776,  0.015194  ,  0.03379842]),\n",
       " array([-0.02018986,  0.0086528 ,  0.01516066,  0.03176739]),\n",
       " array([-0.02642306,  0.00939811,  0.0188466 ,  0.03901033]),\n",
       " array([-0.03655944,  0.01105106,  0.02415825,  0.05055895]),\n",
       " array([-0.02885486,  0.0098421 ,  0.019469  ,  0.04214556]),\n",
       " array([-0.03763895,  0.01131406,  0.02352877,  0.05245734]),\n",
       " array([-0.03581398,  0.0118335 ,  0.02189946,  0.05060186]),\n",
       " array([-0.02998632,  0.0105131 ,  0.01953351,  0.04364114]),\n",
       " array([-0.03302568,  0.01066274,  0.0213609 ,  0.04753033]),\n",
       " array([-0.03797812,  0.01133025,  0.02441101,  0.05236526]),\n",
       " array([-0.02536966,  0.00949089,  0.01749825,  0.03844013]),\n",
       " array([-0.02229127,  0.00895936,  0.01631278,  0.03408825]),\n",
       " array([-0.03034208,  0.01023689,  0.02009887,  0.04416981]),\n",
       " array([-0.0324335 ,  0.01050421,  0.02147574,  0.04604329]),\n",
       " array([-0.02713562,  0.00974422,  0.01849262,  0.04034092]),\n",
       " array([-0.03173638,  0.01077005,  0.0199504 ,  0.04613839]),\n",
       " array([-0.02775139,  0.00974109,  0.01912255,  0.04079234]),\n",
       " array([-0.02652202,  0.00968336,  0.01820997,  0.03929017]),\n",
       " array([-0.02938706,  0.01009851,  0.01962665,  0.0429499 ]),\n",
       " array([-0.0308542 ,  0.01035318,  0.02038323,  0.04442355]),\n",
       " array([-0.02806526,  0.00989646,  0.01896528,  0.04136158]),\n",
       " array([-0.02704297,  0.00927598,  0.01905822,  0.03998355]),\n",
       " array([-0.02925048,  0.01020382,  0.01941469,  0.04272675]),\n",
       " array([-0.03002745,  0.01027935,  0.01961526,  0.04379955]),\n",
       " array([-0.0283204 ,  0.00987566,  0.01924573,  0.04154415]),\n",
       " array([-0.02785844,  0.00981051,  0.0189207 ,  0.04093911]),\n",
       " array([-0.02900491,  0.01002651,  0.01945016,  0.04244721]),\n",
       " array([-0.02787224,  0.00961654,  0.01915039,  0.0410225 ]),\n",
       " array([-0.02890592,  0.010057  ,  0.01934862,  0.04230068]),\n",
       " array([-0.02947778,  0.01000417,  0.01979148,  0.04285722]),\n",
       " array([-0.02841839,  0.00992339,  0.01917183,  0.04173549]),\n",
       " array([-0.02824488,  0.00982256,  0.01916742,  0.04141573]),\n",
       " array([-0.0288149 ,  0.00997552,  0.01937948,  0.04218934]),\n",
       " array([-0.02829836,  0.00975133,  0.0192844 ,  0.04150658]),\n",
       " array([-0.02875403,  0.00998058,  0.01933256,  0.04210216]),\n",
       " array([-0.02910069,  0.00998514,  0.0194307 ,  0.04254213]),\n",
       " array([-0.02851548,  0.00990303,  0.01929197,  0.04179364]),\n",
       " array([-0.02905124,  0.00992723,  0.01956468,  0.04237986]),\n",
       " array([-0.02857661,  0.00992435,  0.01927004,  0.04189658]),\n",
       " array([-0.02853559,  0.0098495 ,  0.01930231,  0.04177963]),\n",
       " array([-0.02848723,  0.00977891,  0.0193341 ,  0.04170555]),\n",
       " array([-0.02855393,  0.00982932,  0.01933371,  0.0418047 ]),\n",
       " array([-0.02865332,  0.00978763,  0.01942846,  0.04186519]),\n",
       " array([-0.02869168,  0.00971927,  0.01950767,  0.04184949]),\n",
       " array([-0.02877239,  0.00979735,  0.01949887,  0.04201706]),\n",
       " array([-0.02892096,  0.009691  ,  0.01961265,  0.04211477]),\n",
       " array([-0.02861462,  0.00967638,  0.01950745,  0.04174745]),\n",
       " array([-0.02894589,  0.00961268,  0.01972961,  0.04205968]),\n",
       " array([-0.02914187,  0.00950435,  0.01992755,  0.04218717]),\n",
       " array([-0.02891217,  0.00949814,  0.0197788 ,  0.04193238]),\n",
       " array([-0.02898206,  0.00934854,  0.01991876,  0.04189004]),\n",
       " array([-0.02879416,  0.00943327,  0.01981806,  0.04172231]),\n",
       " array([-0.02919027,  0.00932634,  0.02007857,  0.04207705]),\n",
       " array([-0.02947809,  0.00915132,  0.02036413,  0.04224185]),\n",
       " array([-0.0293625 ,  0.00908698,  0.02036381,  0.04208879]),\n",
       " array([-0.02969791,  0.00877083,  0.02079188,  0.04220845]),\n",
       " array([-0.02919033,  0.00893514,  0.02037608,  0.04176175]),\n",
       " array([-0.02921456,  0.00865053,  0.02060035,  0.04154903]),\n",
       " array([-0.02974824,  0.00861485,  0.02087671,  0.04213998]),\n",
       " array([-0.02994342,  0.00833274,  0.02125499,  0.04209722]),\n",
       " array([-0.0304241 ,  0.00782484,  0.02192311,  0.04220081]),\n",
       " array([-0.03035214,  0.00760419,  0.02201745,  0.04197208]),\n",
       " array([-0.03093307,  0.00674312,  0.02298689,  0.04191959]),\n",
       " array([-0.03046208,  0.00714584,  0.02240165,  0.04169626]),\n",
       " array([-0.03076866,  0.00656732,  0.02307929,  0.04154287]),\n",
       " array([-0.03127888,  0.00554355,  0.02418057,  0.04124432]),\n",
       " array([-0.03233451,  0.00497814,  0.02514576,  0.04198146]),\n",
       " array([-0.03208016,  0.00438048,  0.02543433,  0.04122001]),\n",
       " array([-0.0329082 ,  0.0026583 ,  0.02718994,  0.04072961]),\n",
       " array([-0.03326525,  0.00281571,  0.02734993,  0.04124123]),\n",
       " array([-0.03396034,  0.00125473,  0.02894622,  0.04067872]),\n",
       " array([-0.03547398, -0.00148947,  0.03192588,  0.04005828]),\n",
       " array([-0.03412864, -0.00021409,  0.0301774 ,  0.03965526]),\n",
       " array([-0.03660915, -0.00365832,  0.034141  ,  0.03959786]),\n",
       " array([-0.03927429, -0.00825926,  0.03912122,  0.03877463]),\n",
       " array([-0.03762731, -0.00646797,  0.03685729,  0.03836765]),\n",
       " array([-0.04034392, -0.01087369,  0.04185095,  0.0376983 ]),\n",
       " array([-0.04406178, -0.01763969,  0.04918145,  0.03618265]),\n",
       " array([-0.04409004, -0.0167141 ,  0.04836552,  0.03703635]),\n",
       " array([-0.04907073, -0.0249641 ,  0.05745958,  0.0357269 ]),\n",
       " array([-0.04954308, -0.02717604,  0.05938389,  0.03446764]),\n",
       " array([-0.05334763, -0.03255157,  0.06571579,  0.03420826]),\n",
       " array([-0.05873731, -0.04290644,  0.07674914,  0.0315181 ]),\n",
       " array([-0.04414005, -0.01692105,  0.0485282 ,  0.0369605 ]),\n",
       " array([-0.05398897, -0.03316669,  0.06636228,  0.034499  ]),\n",
       " array([-0.05895256, -0.0409302 ,  0.07495269,  0.03365717]),\n",
       " array([-0.05073061, -0.02662567,  0.05964903,  0.03622969]),\n",
       " array([-0.05132438, -0.02635048,  0.0597816 ,  0.03711071]),\n",
       " array([-0.05942892, -0.04173296,  0.07606514,  0.03337142]),\n",
       " array([-0.0556067 , -0.03552998,  0.0691809 ,  0.03426869]),\n",
       " array([-0.05135088, -0.02759165,  0.06061011,  0.03615388]),\n",
       " array([-0.0503525 , -0.02511169,  0.05805728,  0.03712669]),\n",
       " array([-0.05676785, -0.0364929 ,  0.07044158,  0.03484873]),\n",
       " array([-0.05099501, -0.0278463 ,  0.06070508,  0.03550736]),\n",
       " array([-0.04792603, -0.02208517,  0.05448235,  0.03692627]),\n",
       " array([-0.05368653, -0.03216878,  0.06550627,  0.03493309]),\n",
       " array([-0.04939255, -0.0239495 ,  0.05687297,  0.036913  ]),\n",
       " array([-0.05283986, -0.0308624 ,  0.06398995,  0.0351025 ]),\n",
       " array([-0.05370553, -0.0326089 ,  0.06575668,  0.03461873]),\n",
       " array([-0.05147434, -0.02812147,  0.06117594,  0.03582695]),\n",
       " array([-0.053147  , -0.03190782,  0.06507851,  0.03453107]),\n",
       " array([-0.05179991, -0.02867069,  0.06172721,  0.03574818]),\n",
       " array([-0.05390531, -0.03206537,  0.0654946 ,  0.035298  ]),\n",
       " array([-0.05172259, -0.02890107,  0.06190246,  0.03545502]),\n",
       " array([-0.05023181, -0.02610903,  0.05889152,  0.03613323]),\n",
       " array([-0.05282285, -0.03065384,  0.06385258,  0.03523312]),\n",
       " array([-0.05106998, -0.02731114,  0.06033915,  0.03602913]),\n",
       " array([-0.05239739, -0.02997458,  0.06307725,  0.03533416]),\n",
       " array([-0.05289703, -0.03097862,  0.06410381,  0.03505829]),\n",
       " array([-0.05183001, -0.02883576,  0.06190791,  0.03563478]),\n",
       " array([-0.05258652, -0.03051193,  0.06364289,  0.03508036]),\n",
       " array([-0.05199656, -0.029131  ,  0.06220613,  0.03558122]),\n",
       " array([-0.05280082, -0.03039653,  0.06361947,  0.03543663]),\n",
       " array([-0.05253126, -0.03002266,  0.06319022,  0.03544122]),\n",
       " array([-0.05155476, -0.02832816,  0.06133818,  0.03576257]),\n",
       " array([-0.05250583, -0.03007242,  0.06322398,  0.03536548]),\n",
       " array([-0.05288551, -0.03076458,  0.06394088,  0.03522626]),\n",
       " array([-0.05209389, -0.02931796,  0.06241615,  0.03553265]),\n",
       " array([-0.05216638, -0.02929744,  0.06244099,  0.03562613]),\n",
       " array([-0.05233964, -0.0298053 ,  0.06291819,  0.03540715]),\n",
       " array([-0.05193669, -0.02914068,  0.062192  ,  0.03550203]),\n",
       " array([-0.05167756, -0.02862505,  0.06164226,  0.03564604]),\n",
       " array([-0.05229876, -0.02971058,  0.06282855,  0.03543562]),\n",
       " array([-0.05242773, -0.02984174,  0.0629925 ,  0.03547629]),\n",
       " array([-0.05205945, -0.02931595,  0.06239213,  0.0354956 ]),\n",
       " array([-0.05239931, -0.02994389,  0.06307138,  0.03535429]),\n",
       " array([-0.05209725, -0.02933423,  0.06242244,  0.03552449]),\n",
       " array([-0.05230366, -0.02976506,  0.0628645 ,  0.03539878]),\n",
       " array([-0.05225122, -0.02965329,  0.06275241,  0.03543225]),\n",
       " array([-0.0520137 , -0.02920172,  0.06227958,  0.03553683]),\n",
       " array([-0.05209519, -0.02935262,  0.06243923,  0.03550441]),\n",
       " array([-0.05231175, -0.02970941,  0.06282919,  0.03545279]),\n",
       " array([-0.05207894, -0.02931419,  0.06239309,  0.03552134]),\n",
       " array([-0.05196903, -0.02911599,  0.06217536,  0.0355642 ]),\n",
       " array([-0.0522713 , -0.02968052,  0.06278452,  0.0354309 ]),\n",
       " array([-0.05212737, -0.02937508,  0.0624706 ,  0.03552247]),\n",
       " array([-0.05222026, -0.02958373,  0.06268196,  0.0354548 ]),\n",
       " array([-0.05208177, -0.02929945,  0.06238722,  0.03553577]),\n",
       " array([-0.05222392, -0.02958525,  0.06268519,  0.03545712]),\n",
       " array([-0.0519974 , -0.02920849,  0.06227055,  0.03551605]),\n",
       " array([-0.05223317, -0.02958418,  0.06268953,  0.0354686 ]),\n",
       " array([-0.05228296, -0.02968106,  0.06278565,  0.03544653]),\n",
       " array([-0.05237684, -0.02984528,  0.06295887,  0.03541759]),\n",
       " array([-0.05240121, -0.02990293,  0.06302808,  0.03539218]),\n",
       " array([-0.05215951, -0.02946137,  0.06255184,  0.03548905]),\n",
       " array([-0.05222952, -0.0295722 ,  0.06267415,  0.03547585]),\n",
       " array([-0.05223415, -0.02956643,  0.06267024,  0.03548637]),\n",
       " array([-0.05221478, -0.02956577,  0.06265889,  0.03546567]),\n",
       " array([-0.05220559, -0.02955656,  0.06264357,  0.0354642 ]),\n",
       " array([-0.05221487, -0.02955034,  0.06264241,  0.03548069]),\n",
       " array([-0.05221034, -0.02953289,  0.06262102,  0.03549248]),\n",
       " array([-0.0523047 , -0.02970998,  0.06281036,  0.03545048]),\n",
       " array([-0.05219212, -0.02950475,  0.06258889,  0.03549498]),\n",
       " array([-0.0521467 , -0.02941659,  0.06249051,  0.0355192 ]),\n",
       " array([-0.05222686, -0.02957989,  0.06265777,  0.03547522]),\n",
       " array([-0.05222553, -0.02958374,  0.06264958,  0.03547491]),\n",
       " array([-0.05226075, -0.02960912,  0.06269135,  0.03549222]),\n",
       " array([-0.05213967, -0.02940526,  0.06246506,  0.03552682]),\n",
       " array([-0.05219869, -0.02951855,  0.06257642,  0.03550198]),\n",
       " array([-0.05219287, -0.02951138,  0.06255412,  0.03550673]),\n",
       " array([-0.05221729, -0.02954999,  0.06259117,  0.03550536]),\n",
       " array([-0.05222988, -0.02957262,  0.06259231,  0.03551055]),\n",
       " array([-0.05213322, -0.02942738,  0.06243918,  0.03551729]),\n",
       " array([-0.05225108, -0.02964229,  0.06265253,  0.03547792]),\n",
       " array([-0.05230678, -0.02976081,  0.06274627,  0.03545347]),\n",
       " array([-0.05220584, -0.02955236,  0.06251637,  0.03551911]),\n",
       " array([-0.052196  , -0.02953667,  0.06244976,  0.03554121]),\n",
       " array([-0.05224007, -0.02963736,  0.06255964,  0.03550453]),\n",
       " array([-0.05235314, -0.02982634,  0.06273481,  0.0354876 ]),\n",
       " array([-0.0524631 , -0.03002583,  0.06288262,  0.03547275]),\n",
       " array([-0.0523731 , -0.02990771,  0.06272684,  0.03547543]),\n",
       " array([-0.05244471, -0.03007526,  0.0627941 ,  0.03545787]),\n",
       " array([-0.05236516, -0.02987675,  0.06259679,  0.03553471]),\n",
       " array([-0.05239436, -0.02993472,  0.06252205,  0.03557533]),\n",
       " array([-0.05250901, -0.03014888,  0.06276463,  0.03551905]),\n",
       " array([-0.05270958, -0.03055568,  0.06303194,  0.03547129]),\n",
       " array([-0.05296638, -0.03106518,  0.06332303,  0.03543633]),\n",
       " array([-0.05269413, -0.03058619,  0.06281928,  0.03552154]),\n",
       " array([-0.05280964, -0.03086637,  0.06278762,  0.03554593]),\n",
       " array([-0.05289498, -0.03093232,  0.06290456,  0.03558045]),\n",
       " array([-0.05312012, -0.03136084,  0.06295978,  0.03564174]),\n",
       " array([-0.05313624, -0.03146468,  0.06303161,  0.03558062]),\n",
       " array([-0.05362183, -0.03244382,  0.06352897,  0.03552698]),\n",
       " array([-0.05337754, -0.03200268,  0.06283096,  0.0357113 ]),\n",
       " array([-0.05358312, -0.03247143,  0.06258493,  0.03584879]),\n",
       " array([-0.05392101, -0.03300401,  0.06326503,  0.03575314]),\n",
       " array([-0.0544767 , -0.03407283,  0.06350374,  0.03585674]),\n",
       " array([-0.05426465, -0.03370978,  0.0632571 ,  0.03585651]),\n",
       " array([-0.05410046, -0.03336362,  0.06262381,  0.03607491]),\n",
       " array([-0.05433978, -0.03382352,  0.06217123,  0.03634887]),\n",
       " array([-0.055212  , -0.03567794,  0.06279872,  0.03631371]),\n",
       " array([-0.05556344, -0.03617061,  0.06328046,  0.03633913]),\n",
       " array([-0.0565536 , -0.03802019,  0.06362823,  0.0365843 ]),\n",
       " array([-0.05411028, -0.03321043,  0.06330755,  0.03588691]),\n",
       " array([-0.05498045, -0.03492891,  0.06287439,  0.03635932]),\n",
       " array([-0.05533835, -0.03553848,  0.06268303,  0.03661072]),\n",
       " array([-0.05502028, -0.03499391,  0.06231308,  0.03661038]),\n",
       " array([-0.05584169, -0.03674804,  0.06201203,  0.03694193]),\n",
       " array([-0.05454313, -0.03409483,  0.06298367,  0.03615067]),\n",
       " array([-0.05571387, -0.03627061,  0.06355457,  0.03638087]),\n",
       " array([-0.05640092, -0.03749415,  0.06424623,  0.03639687]),\n",
       " array([-0.0557237 , -0.03635035,  0.0643793 ,  0.03601261]),\n",
       " array([-0.05679112, -0.03837718,  0.06440652,  0.03640329]),\n",
       " array([-0.05638465, -0.03740469,  0.06467276,  0.03624692]),\n",
       " array([-0.05679526, -0.03802173,  0.06536891,  0.03620081]),\n",
       " array([-0.05787505, -0.04019279,  0.06632609,  0.03614748]),\n",
       " array([-0.05820748, -0.04069258,  0.06579458,  0.03656161]),\n",
       " array([-0.05784823, -0.03982345,  0.06646139,  0.03625009]),\n",
       " array([-0.05896209, -0.04187112,  0.06772925,  0.03618313]),\n",
       " array([-0.05704121, -0.0385884 ,  0.06511699,  0.03634343]),\n",
       " array([-0.05711127, -0.0389243 ,  0.0648419 ,  0.03637658]),\n",
       " array([-0.05766399, -0.03959866,  0.06605651,  0.03628171]),\n",
       " array([-0.05697892, -0.03825789,  0.0648424 ,  0.03654631]),\n",
       " array([-0.05765102, -0.03970907,  0.06595517,  0.03624718]),\n",
       " array([-0.05636826, -0.03726635,  0.06545421,  0.03597496]),\n",
       " array([-0.05774767, -0.03983602,  0.06570949,  0.03641495]),\n",
       " array([-0.05825669, -0.04084434,  0.06605017,  0.03644283]),\n",
       " array([-0.05716062, -0.03872738,  0.06553922,  0.03626131]),\n",
       " array([-0.05807044, -0.04034717,  0.06651321,  0.03625915]),\n",
       " array([-0.05729852, -0.03902809,  0.06546604,  0.03632236]),\n",
       " array([-0.05726492, -0.03905162,  0.06527845,  0.03634119]),\n",
       " array([-0.05756422, -0.0394619 ,  0.065862  ,  0.03629658]),\n",
       " array([-0.05708951, -0.0386272 ,  0.06570173,  0.03614877]),\n",
       " array([-0.05758313, -0.03953382,  0.06570755,  0.0363484 ]),\n",
       " array([-0.05788783, -0.04013905,  0.06595616,  0.03634595]),\n",
       " array([-0.05770603, -0.03978613,  0.06585192,  0.03632479]),\n",
       " array([-0.05742493, -0.0391959 ,  0.06548859,  0.03639888]),\n",
       " array([-0.0575945 , -0.03958078,  0.06583852,  0.03628511]),\n",
       " array([-0.05792542, -0.04015322,  0.06616395,  0.03630508]),\n",
       " array([-0.0577687 , -0.03987194,  0.06598948,  0.0363094 ]),\n",
       " array([-0.05776195, -0.03992443,  0.06583174,  0.03633727]),\n",
       " array([-0.05761366, -0.03957753,  0.06585443,  0.03630675]),\n",
       " array([-0.0577583 , -0.03987438,  0.06605963,  0.03626462]),\n",
       " array([-0.05762693, -0.03961896,  0.06579557,  0.03632746]),\n",
       " array([-0.05759586, -0.03953847,  0.06588708,  0.03628957]),\n",
       " array([-0.05770807, -0.03972267,  0.06592475,  0.03633148]),\n",
       " array([-0.05762289, -0.03961625,  0.06586008,  0.0362967 ]),\n",
       " array([-0.05746097, -0.03930366,  0.0657091 ,  0.03630084]),\n",
       " array([-0.05751976, -0.039399  ,  0.06585978,  0.03626948]),\n",
       " array([-0.05760014, -0.03956397,  0.06581162,  0.03631296]),\n",
       " array([-0.0577553 , -0.03984445,  0.0659975 ,  0.03630215]),\n",
       " array([-0.05753455, -0.03943886,  0.0657812 ,  0.03630117]),\n",
       " array([-0.05758976, -0.03955984,  0.06576659,  0.03631922]),\n",
       " array([-0.05759434, -0.03954381,  0.06585696,  0.03629698]),\n",
       " array([-0.0575623 , -0.03950391,  0.0658005 ,  0.03629716]),\n",
       " array([-0.05753662, -0.0394671 ,  0.06577353,  0.03629236]),\n",
       " array([-0.0575569 , -0.03948745,  0.06583775,  0.03628304]),\n",
       " array([-0.05753529, -0.03944919,  0.06585081,  0.03626808]),\n",
       " array([-0.05763366, -0.03963685,  0.06589644,  0.03628577]),\n",
       " array([-0.05755933, -0.03948836,  0.06581001,  0.03629732]),\n",
       " array([-0.05755638, -0.03950417,  0.06579721,  0.03629013]),\n",
       " array([-0.05758485, -0.0395339 ,  0.06584202,  0.03629527])]"
      ]
     },
     "execution_count": 44,
     "metadata": {},
     "output_type": "execute_result"
    }
   ],
   "source": [
    "theta_global"
   ]
  },
  {
   "cell_type": "code",
   "execution_count": 45,
   "metadata": {},
   "outputs": [],
   "source": [
    "thetaP = np.array([0.001 ,0.02999655 ,0.02895732, 0.03468754])"
   ]
  },
  {
   "cell_type": "code",
   "execution_count": 46,
   "metadata": {},
   "outputs": [
    {
     "data": {
      "text/plain": [
       "-0.39666774847440345"
      ]
     },
     "execution_count": 46,
     "metadata": {},
     "output_type": "execute_result"
    }
   ],
   "source": [
    "oP = logveri(thetaP,[nbillonarios,datos,nuevo])\n",
    "oP"
   ]
  },
  {
   "cell_type": "code",
   "execution_count": 47,
   "metadata": {},
   "outputs": [
    {
     "data": {
      "text/plain": [
       "0.7715169834704293"
      ]
     },
     "execution_count": 47,
     "metadata": {},
     "output_type": "execute_result"
    }
   ],
   "source": [
    "(theta_0+oP)/theta_0"
   ]
  },
  {
   "cell_type": "code",
   "execution_count": 48,
   "metadata": {},
   "outputs": [
    {
     "data": {
      "text/plain": [
       "matrix([[0.001, 0.001, 0.001, 0.001]])"
      ]
     },
     "execution_count": 48,
     "metadata": {},
     "output_type": "execute_result"
    }
   ],
   "source": [
    "def corcoef(theta_0,theta_normie):\n",
    "    return((theta_0-theta_normie)/theta_0)\n",
    "y = []\n",
    "coef = []\n",
    "for i in range(len(theta_global)):\n",
    "    theta = [x[i,0],x[i,1],x[i,2],x[i,3]]\n",
    "    y.append(logveri(theta_global[i],[nbillonarios,datos,nuevo]))\n",
    "    coef.append(corcoef(theta_0,logveri(theta_global[i],[nbillonarios,datos,nuevo])))\n",
    "ynp = np.array(y)\n",
    "\n",
    "y = []\n",
    "for i in range(len(theta_global)):\n",
    "    theta = [x[i,0],x[i,1],x[i,2],x[i,3]]\n",
    "    y.append(logveri(theta_global[i],[nbillonarios,datos,nuevo]))\n",
    "maximo = ynp.max()\n",
    "\n",
    "a = np.where(ynp == maximo)\n",
    "x[a]"
   ]
  },
  {
   "cell_type": "code",
   "execution_count": 49,
   "metadata": {},
   "outputs": [
    {
     "name": "stdout",
     "output_type": "stream",
     "text": [
      "Intervalo de confianza al 95% de r es: [-0.40119668 -0.03083809]\n"
     ]
    },
    {
     "data": {
      "image/png": "[encoded data removed]",
      "text/plain": [
       "<Figure size 864x432 with 1 Axes>"
      ]
     },
     "metadata": {
      "needs_background": "light"
     },
     "output_type": "display_data"
    }
   ],
   "source": [
    "fig, ax = plt.subplots(figsize=(12, 6), tight_layout=True)\n",
    "hist_val, hist_lim, _ = ax.hist(ynp, bins=20, density=True)\n",
    "\n",
    "IC = np.percentile(ynp, [2.5, 97.5])\n",
    "ax.plot([IC[0]]*2, [0, np.max(hist_val)], 'k--', lw=2)\n",
    "ax.plot([IC[1]]*2, [0, np.max(hist_val)], 'k--', lw=2)\n",
    "\n",
    "print(f\"Intervalo de confianza al 95% de r es: {IC}\")"
   ]
  },
  {
   "cell_type": "markdown",
   "metadata": {},
   "source": [
    "En el grafico anterior podemos denotar que la mayoria de los valores tienen una tendencia a poseer coeficientes -0.40119665, lo cual nos da a entender que presentan una gran probabilidad de estar en valores correctos, dado a que la mayoria de los paises presentaban una cantidad de billonarias baja, aunque tambien hay que asimilar que hay un pequeño grupo de valores que presentan un valor cercano a 0, esto es debido a que existen algunos paises con una gran cantidad de billonarios, lo cual destabiliza un poco la grafica."
   ]
  },
  {
   "cell_type": "markdown",
   "metadata": {},
   "source": [
    "Ahora Obtendremos los billonarios inferidos por el codigo"
   ]
  },
  {
   "cell_type": "code",
   "execution_count": 50,
   "metadata": {},
   "outputs": [],
   "source": [
    "def logveri3(theta,yxi):\n",
    "    y,x,i = yxi[0],yxi[1],yxi[2]\n",
    "    theta_cero = theta[0]\n",
    "    theta_uno = theta[1] \n",
    "    theta_dos = theta[2]\n",
    "    theta_tres =theta[3]\n",
    "    a = x*[theta_uno,theta_dos,theta_tres]\n",
    "    a = a.sum(axis=1)\n",
    "    a = a+theta_cero\n",
    "    h = np.max(a)\n",
    "    b = np.exp(a)\n",
    "    b = -b\n",
    "    lgl = (y*(a)+b)/i\n",
    "    return lgl\n"
   ]
  },
  {
   "cell_type": "code",
   "execution_count": 51,
   "metadata": {},
   "outputs": [],
   "source": [
    "pyx = logveri3(thetaP,[nbillonarios,datos,nuevo])\n",
    "np.set_printoptions(suppress=True)"
   ]
  },
  {
   "cell_type": "code",
   "execution_count": 52,
   "metadata": {},
   "outputs": [
    {
     "data": {
      "text/plain": [
       "array([68.53641232,  2.2902894 ,  1.95876427,  1.89863332,  1.94461581,\n",
       "        2.73398451, 14.35692406, 15.22337192,  9.40528693,  9.94945755,\n",
       "        7.95087449,  3.02754497,  2.97331724,  3.00301228,  3.06212174,\n",
       "        3.84539682,  7.80566974,  8.48747977,  4.41508088,  3.68402322,\n",
       "        3.22059591,  3.62120275, 15.49999601,  2.97216701, 16.0077665 ,\n",
       "        5.50057652,  4.06078771,  8.01022282, 15.14059868,  3.14087297,\n",
       "        3.43296622, 18.77442291,  3.71887129,  3.24961644, 16.5076875 ,\n",
       "        9.05132388, 13.57234373,  1.89175892, 19.81986926,  9.02168839,\n",
       "        2.58493446, 17.56372608, 16.41990343, 18.94121001,  1.95332806,\n",
       "        3.03608869, 16.73908356, 18.78200459,  1.91969623,  8.97934675,\n",
       "       18.88990516,  6.05438024, 15.82500138,  7.15617873, 10.23480651,\n",
       "        7.06472173, 17.52699202,  1.87919119,  3.29657971,  2.61346815,\n",
       "        2.81463123,  2.06001528,  4.83659373,  9.86956085,  2.00245258,\n",
       "        1.93383223,  3.48079699, 16.28229872,  3.18444608,  3.1292178 ,\n",
       "        4.14778607,  3.49020762,  9.0789132 ,  2.75935356,  2.79024863,\n",
       "        2.62544964, 10.58330224,  2.07244391,  2.34841271,  2.61183332,\n",
       "        2.05912711, 16.0589134 ,  3.73107285, 11.64107317, 16.19409431,\n",
       "        8.01188726,  1.87304236,  2.14857167,  1.74892995,  2.96907456,\n",
       "        1.99459706,  8.11675246,  4.64581847,  2.19702215,  9.19278681,\n",
       "        8.75960846, 14.26928467,  3.75826573,  3.11361161,  9.25193898,\n",
       "        1.82533128,  1.88463787, 11.78767984,  8.69158751, 15.94927768,\n",
       "       10.16955563,  9.44563473,  8.87545942,  9.31339218,  9.36123208,\n",
       "        3.36002381,  3.21878435,  9.32545649,  2.02041573,  8.22712688,\n",
       "        1.92045678,  2.98395193,  2.01830012,  1.85130847,  3.39661151,\n",
       "        4.07167829,  4.91387881, 15.19070655,  9.06919416,  3.52574816,\n",
       "       15.51408779,  3.72372239,  4.08093036,  5.36330262,  2.32878523,\n",
       "        1.80220349,  9.31444317,  8.72219087,  2.09364714,  2.13479233,\n",
       "        3.83046366,  2.0960203 ,  2.06301164,  1.98960001,  2.18061345,\n",
       "       17.06919064,  2.11872206,  7.96355876,  2.03021737,  2.65372265,\n",
       "       10.68938443,  2.21246883,  2.02814453, 10.14870602,  3.40346193,\n",
       "       10.37741388,  2.18001754, 16.47490717,  1.96234226,  2.00371873,\n",
       "        2.37034755,  2.72321345,  2.02253247,  2.1224354 ,  3.02984425,\n",
       "        3.15793193,  2.46281956,  9.42775056, 15.34780443, 20.03879629,\n",
       "        1.85012274,  2.81161824,  7.26906942,  9.69469238, 10.96006431,\n",
       "        3.43719365, 11.02453727,  9.31114329,  1.92877864,  2.17229156,\n",
       "        9.96729806, 10.97117509,  3.34852553, 15.31081963, 16.44000846,\n",
       "        1.81666139, 18.39397408,  2.85618017, 16.95139294,  1.8123294 ,\n",
       "        2.94138663,  1.73397242,  1.66190591,  3.20776489,  1.84535456,\n",
       "        1.74147671,  1.7570523 ,  1.7684509 ,  3.04985975,  4.68757627,\n",
       "       16.64532786,  1.9416649 ])"
      ]
     },
     "execution_count": 52,
     "metadata": {},
     "output_type": "execute_result"
    }
   ],
   "source": [
    "def cantidad(data,theta,alo):\n",
    "    hola = data*theta[1:4]\n",
    "    hola = np.sum(hola,axis=1)\n",
    "    hola = hola + theta[0]\n",
    "    hola = hola * alo\n",
    "    hola = np.exp(hola)\n",
    "    return hola\n",
    "nuevoBillonarios = cantidad(datos,thetaP,np.exp(pyx))\n",
    "nuevoBillonarios"
   ]
  },
  {
   "cell_type": "code",
   "execution_count": 53,
   "metadata": {},
   "outputs": [],
   "source": [
    "temp = pd.read_csv('billonarios.csv')\n",
    "errorAbsoluto = abs(nuevoBillonarios - nbillonarios)\n"
   ]
  },
  {
   "cell_type": "code",
   "execution_count": 54,
   "metadata": {},
   "outputs": [
    {
     "data": {
      "text/plain": [
       "'Versión de pandas 1.0.5'"
      ]
     },
     "metadata": {},
     "output_type": "display_data"
    }
   ],
   "source": [
    "\n",
    "display(\"Versión de pandas \"+pd.__version__)\n",
    "pd.set_option(\"display.max_rows\", None, \"display.max_columns\", None)"
   ]
  },
  {
   "cell_type": "code",
   "execution_count": 55,
   "metadata": {},
   "outputs": [
    {
     "data": {
      "text/html": [
       "<div>\n",
       "<style scoped>\n",
       "    .dataframe tbody tr th:only-of-type {\n",
       "        vertical-align: middle;\n",
       "    }\n",
       "\n",
       "    .dataframe tbody tr th {\n",
       "        vertical-align: top;\n",
       "    }\n",
       "\n",
       "    .dataframe thead th {\n",
       "        text-align: right;\n",
       "    }\n",
       "</style>\n",
       "<table border=\"1\" class=\"dataframe\">\n",
       "  <thead>\n",
       "    <tr style=\"text-align: right;\">\n",
       "      <th></th>\n",
       "      <th>Error</th>\n",
       "      <th>pais</th>\n",
       "    </tr>\n",
       "  </thead>\n",
       "  <tbody>\n",
       "    <tr>\n",
       "      <th>0</th>\n",
       "      <td>400.463588</td>\n",
       "      <td>United States</td>\n",
       "    </tr>\n",
       "    <tr>\n",
       "      <th>72</th>\n",
       "      <td>77.921087</td>\n",
       "      <td>Russian Federation</td>\n",
       "    </tr>\n",
       "    <tr>\n",
       "      <th>50</th>\n",
       "      <td>40.110095</td>\n",
       "      <td>Germany</td>\n",
       "    </tr>\n",
       "    <tr>\n",
       "      <th>159</th>\n",
       "      <td>38.970156</td>\n",
       "      <td>China</td>\n",
       "    </tr>\n",
       "    <tr>\n",
       "      <th>164</th>\n",
       "      <td>32.961204</td>\n",
       "      <td>India</td>\n",
       "    </tr>\n",
       "    <tr>\n",
       "      <th>1</th>\n",
       "      <td>22.709711</td>\n",
       "      <td>Canada</td>\n",
       "    </tr>\n",
       "    <tr>\n",
       "      <th>194</th>\n",
       "      <td>21.312424</td>\n",
       "      <td>Hong Kong SAR, China</td>\n",
       "    </tr>\n",
       "    <tr>\n",
       "      <th>140</th>\n",
       "      <td>17.930809</td>\n",
       "      <td>Turkey</td>\n",
       "    </tr>\n",
       "    <tr>\n",
       "      <th>195</th>\n",
       "      <td>16.645328</td>\n",
       "      <td>Puerto Rico</td>\n",
       "    </tr>\n",
       "    <tr>\n",
       "      <th>42</th>\n",
       "      <td>16.419903</td>\n",
       "      <td>Luxembourg</td>\n",
       "    </tr>\n",
       "    <tr>\n",
       "      <th>81</th>\n",
       "      <td>16.058913</td>\n",
       "      <td>Finland</td>\n",
       "    </tr>\n",
       "    <tr>\n",
       "      <th>24</th>\n",
       "      <td>16.007766</td>\n",
       "      <td>Panama</td>\n",
       "    </tr>\n",
       "    <tr>\n",
       "      <th>104</th>\n",
       "      <td>15.949278</td>\n",
       "      <td>Cameroon</td>\n",
       "    </tr>\n",
       "    <tr>\n",
       "      <th>41</th>\n",
       "      <td>15.563726</td>\n",
       "      <td>Belgium</td>\n",
       "    </tr>\n",
       "    <tr>\n",
       "      <th>125</th>\n",
       "      <td>15.514088</td>\n",
       "      <td>Namibia</td>\n",
       "    </tr>\n",
       "    <tr>\n",
       "      <th>22</th>\n",
       "      <td>15.499996</td>\n",
       "      <td>Nicaragua</td>\n",
       "    </tr>\n",
       "    <tr>\n",
       "      <th>152</th>\n",
       "      <td>15.474907</td>\n",
       "      <td>Oman</td>\n",
       "    </tr>\n",
       "    <tr>\n",
       "      <th>7</th>\n",
       "      <td>15.223372</td>\n",
       "      <td>Dominican Republic</td>\n",
       "    </tr>\n",
       "    <tr>\n",
       "      <th>84</th>\n",
       "      <td>15.194094</td>\n",
       "      <td>Denmark</td>\n",
       "    </tr>\n",
       "    <tr>\n",
       "      <th>122</th>\n",
       "      <td>15.190707</td>\n",
       "      <td>Zimbabwe</td>\n",
       "    </tr>\n",
       "    <tr>\n",
       "      <th>38</th>\n",
       "      <td>15.180131</td>\n",
       "      <td>United Kingdom</td>\n",
       "    </tr>\n",
       "    <tr>\n",
       "      <th>28</th>\n",
       "      <td>15.140599</td>\n",
       "      <td>Suriname</td>\n",
       "    </tr>\n",
       "    <tr>\n",
       "      <th>6</th>\n",
       "      <td>14.356924</td>\n",
       "      <td>Haiti</td>\n",
       "    </tr>\n",
       "    <tr>\n",
       "      <th>96</th>\n",
       "      <td>14.269285</td>\n",
       "      <td>Niger</td>\n",
       "    </tr>\n",
       "    <tr>\n",
       "      <th>36</th>\n",
       "      <td>13.572344</td>\n",
       "      <td>Uruguay</td>\n",
       "    </tr>\n",
       "    <tr>\n",
       "      <th>178</th>\n",
       "      <td>13.310820</td>\n",
       "      <td>Philippines</td>\n",
       "    </tr>\n",
       "    <tr>\n",
       "      <th>183</th>\n",
       "      <td>12.951393</td>\n",
       "      <td>New Zealand</td>\n",
       "    </tr>\n",
       "    <tr>\n",
       "      <th>34</th>\n",
       "      <td>12.507687</td>\n",
       "      <td>Chile</td>\n",
       "    </tr>\n",
       "    <tr>\n",
       "      <th>67</th>\n",
       "      <td>12.282299</td>\n",
       "      <td>Greece</td>\n",
       "    </tr>\n",
       "    <tr>\n",
       "      <th>52</th>\n",
       "      <td>11.825001</td>\n",
       "      <td>Austria</td>\n",
       "    </tr>\n",
       "    <tr>\n",
       "      <th>102</th>\n",
       "      <td>11.787680</td>\n",
       "      <td>Ghana</td>\n",
       "    </tr>\n",
       "    <tr>\n",
       "      <th>179</th>\n",
       "      <td>11.440008</td>\n",
       "      <td>Indonesia</td>\n",
       "    </tr>\n",
       "    <tr>\n",
       "      <th>169</th>\n",
       "      <td>10.960064</td>\n",
       "      <td>Maldives</td>\n",
       "    </tr>\n",
       "    <tr>\n",
       "      <th>146</th>\n",
       "      <td>10.787531</td>\n",
       "      <td>Saudi Arabia</td>\n",
       "    </tr>\n",
       "    <tr>\n",
       "      <th>150</th>\n",
       "      <td>10.377414</td>\n",
       "      <td>Qatar</td>\n",
       "    </tr>\n",
       "    <tr>\n",
       "      <th>9</th>\n",
       "      <td>9.949458</td>\n",
       "      <td>Trinidad and Tobago</td>\n",
       "    </tr>\n",
       "    <tr>\n",
       "      <th>63</th>\n",
       "      <td>9.869561</td>\n",
       "      <td>Croatia</td>\n",
       "    </tr>\n",
       "    <tr>\n",
       "      <th>168</th>\n",
       "      <td>9.694692</td>\n",
       "      <td>Sri Lanka</td>\n",
       "    </tr>\n",
       "    <tr>\n",
       "      <th>106</th>\n",
       "      <td>9.445635</td>\n",
       "      <td>Gabon</td>\n",
       "    </tr>\n",
       "    <tr>\n",
       "      <th>8</th>\n",
       "      <td>9.405287</td>\n",
       "      <td>Jamaica</td>\n",
       "    </tr>\n",
       "    <tr>\n",
       "      <th>109</th>\n",
       "      <td>9.361232</td>\n",
       "      <td>Congo, Rep.</td>\n",
       "    </tr>\n",
       "    <tr>\n",
       "      <th>112</th>\n",
       "      <td>9.325456</td>\n",
       "      <td>Kenya</td>\n",
       "    </tr>\n",
       "    <tr>\n",
       "      <th>131</th>\n",
       "      <td>9.314443</td>\n",
       "      <td>Mauritius</td>\n",
       "    </tr>\n",
       "    <tr>\n",
       "      <th>108</th>\n",
       "      <td>9.313392</td>\n",
       "      <td>Chad</td>\n",
       "    </tr>\n",
       "    <tr>\n",
       "      <th>172</th>\n",
       "      <td>9.311143</td>\n",
       "      <td>Cambodia</td>\n",
       "    </tr>\n",
       "    <tr>\n",
       "      <th>99</th>\n",
       "      <td>9.251939</td>\n",
       "      <td>Burkina Faso</td>\n",
       "    </tr>\n",
       "    <tr>\n",
       "      <th>54</th>\n",
       "      <td>9.234807</td>\n",
       "      <td>Czech Republic</td>\n",
       "    </tr>\n",
       "    <tr>\n",
       "      <th>94</th>\n",
       "      <td>9.192787</td>\n",
       "      <td>Benin</td>\n",
       "    </tr>\n",
       "    <tr>\n",
       "      <th>105</th>\n",
       "      <td>9.169556</td>\n",
       "      <td>Nigeria</td>\n",
       "    </tr>\n",
       "    <tr>\n",
       "      <th>123</th>\n",
       "      <td>9.069194</td>\n",
       "      <td>Malawi</td>\n",
       "    </tr>\n",
       "    <tr>\n",
       "      <th>107</th>\n",
       "      <td>8.875459</td>\n",
       "      <td>Central African Republic</td>\n",
       "    </tr>\n",
       "    <tr>\n",
       "      <th>95</th>\n",
       "      <td>8.759608</td>\n",
       "      <td>Mauritania</td>\n",
       "    </tr>\n",
       "    <tr>\n",
       "      <th>132</th>\n",
       "      <td>8.722191</td>\n",
       "      <td>Seychelles</td>\n",
       "    </tr>\n",
       "    <tr>\n",
       "      <th>103</th>\n",
       "      <td>8.691588</td>\n",
       "      <td>Togo</td>\n",
       "    </tr>\n",
       "    <tr>\n",
       "      <th>163</th>\n",
       "      <td>8.652196</td>\n",
       "      <td>Japan</td>\n",
       "    </tr>\n",
       "    <tr>\n",
       "      <th>114</th>\n",
       "      <td>8.227127</td>\n",
       "      <td>Burundi</td>\n",
       "    </tr>\n",
       "    <tr>\n",
       "      <th>91</th>\n",
       "      <td>8.116752</td>\n",
       "      <td>Gambia, The</td>\n",
       "    </tr>\n",
       "    <tr>\n",
       "      <th>35</th>\n",
       "      <td>8.051324</td>\n",
       "      <td>Argentina</td>\n",
       "    </tr>\n",
       "    <tr>\n",
       "      <th>171</th>\n",
       "      <td>8.024537</td>\n",
       "      <td>Thailand</td>\n",
       "    </tr>\n",
       "    <tr>\n",
       "      <th>27</th>\n",
       "      <td>8.010223</td>\n",
       "      <td>Guyana</td>\n",
       "    </tr>\n",
       "    <tr>\n",
       "      <th>10</th>\n",
       "      <td>7.950874</td>\n",
       "      <td>Barbados</td>\n",
       "    </tr>\n",
       "    <tr>\n",
       "      <th>16</th>\n",
       "      <td>7.805670</td>\n",
       "      <td>St. Kitts and Nevis</td>\n",
       "    </tr>\n",
       "    <tr>\n",
       "      <th>83</th>\n",
       "      <td>7.641073</td>\n",
       "      <td>Norway</td>\n",
       "    </tr>\n",
       "    <tr>\n",
       "      <th>167</th>\n",
       "      <td>7.269069</td>\n",
       "      <td>Bangladesh</td>\n",
       "    </tr>\n",
       "    <tr>\n",
       "      <th>53</th>\n",
       "      <td>7.156179</td>\n",
       "      <td>Hungary</td>\n",
       "    </tr>\n",
       "    <tr>\n",
       "      <th>55</th>\n",
       "      <td>7.064722</td>\n",
       "      <td>Slovak Republic</td>\n",
       "    </tr>\n",
       "    <tr>\n",
       "      <th>82</th>\n",
       "      <td>6.268927</td>\n",
       "      <td>Sweden</td>\n",
       "    </tr>\n",
       "    <tr>\n",
       "      <th>148</th>\n",
       "      <td>6.148706</td>\n",
       "      <td>Kuwait</td>\n",
       "    </tr>\n",
       "    <tr>\n",
       "      <th>85</th>\n",
       "      <td>6.011887</td>\n",
       "      <td>Iceland</td>\n",
       "    </tr>\n",
       "    <tr>\n",
       "      <th>176</th>\n",
       "      <td>5.971175</td>\n",
       "      <td>Singapore</td>\n",
       "    </tr>\n",
       "    <tr>\n",
       "      <th>46</th>\n",
       "      <td>5.739084</td>\n",
       "      <td>Switzerland</td>\n",
       "    </tr>\n",
       "    <tr>\n",
       "      <th>128</th>\n",
       "      <td>5.363303</td>\n",
       "      <td>Swaziland</td>\n",
       "    </tr>\n",
       "    <tr>\n",
       "      <th>49</th>\n",
       "      <td>4.979347</td>\n",
       "      <td>Portugal</td>\n",
       "    </tr>\n",
       "    <tr>\n",
       "      <th>143</th>\n",
       "      <td>4.969783</td>\n",
       "      <td>Lebanon</td>\n",
       "    </tr>\n",
       "    <tr>\n",
       "      <th>43</th>\n",
       "      <td>4.941210</td>\n",
       "      <td>France</td>\n",
       "    </tr>\n",
       "    <tr>\n",
       "      <th>121</th>\n",
       "      <td>4.913879</td>\n",
       "      <td>Zambia</td>\n",
       "    </tr>\n",
       "    <tr>\n",
       "      <th>62</th>\n",
       "      <td>4.836594</td>\n",
       "      <td>Macedonia, FYR</td>\n",
       "    </tr>\n",
       "    <tr>\n",
       "      <th>92</th>\n",
       "      <td>4.645818</td>\n",
       "      <td>Mali</td>\n",
       "    </tr>\n",
       "    <tr>\n",
       "      <th>56</th>\n",
       "      <td>4.526992</td>\n",
       "      <td>Italy</td>\n",
       "    </tr>\n",
       "    <tr>\n",
       "      <th>181</th>\n",
       "      <td>4.393974</td>\n",
       "      <td>Australia</td>\n",
       "    </tr>\n",
       "    <tr>\n",
       "      <th>70</th>\n",
       "      <td>4.147786</td>\n",
       "      <td>Moldova</td>\n",
       "    </tr>\n",
       "    <tr>\n",
       "      <th>127</th>\n",
       "      <td>4.080930</td>\n",
       "      <td>Botswana</td>\n",
       "    </tr>\n",
       "    <tr>\n",
       "      <th>120</th>\n",
       "      <td>4.071678</td>\n",
       "      <td>Mozambique</td>\n",
       "    </tr>\n",
       "    <tr>\n",
       "      <th>142</th>\n",
       "      <td>3.963559</td>\n",
       "      <td>Egypt, Arab Rep.</td>\n",
       "    </tr>\n",
       "    <tr>\n",
       "      <th>158</th>\n",
       "      <td>3.877565</td>\n",
       "      <td>Kazakhstan</td>\n",
       "    </tr>\n",
       "    <tr>\n",
       "      <th>15</th>\n",
       "      <td>3.845397</td>\n",
       "      <td>Antigua and Barbuda</td>\n",
       "    </tr>\n",
       "    <tr>\n",
       "      <th>135</th>\n",
       "      <td>3.830464</td>\n",
       "      <td>Tunisia</td>\n",
       "    </tr>\n",
       "    <tr>\n",
       "      <th>151</th>\n",
       "      <td>3.819982</td>\n",
       "      <td>United Arab Emirates</td>\n",
       "    </tr>\n",
       "    <tr>\n",
       "      <th>97</th>\n",
       "      <td>3.758266</td>\n",
       "      <td>Cote d'Ivoire</td>\n",
       "    </tr>\n",
       "    <tr>\n",
       "      <th>126</th>\n",
       "      <td>3.723722</td>\n",
       "      <td>Lesotho</td>\n",
       "    </tr>\n",
       "    <tr>\n",
       "      <th>32</th>\n",
       "      <td>3.718871</td>\n",
       "      <td>Bolivia</td>\n",
       "    </tr>\n",
       "    <tr>\n",
       "      <th>19</th>\n",
       "      <td>3.684023</td>\n",
       "      <td>Guatemala</td>\n",
       "    </tr>\n",
       "    <tr>\n",
       "      <th>21</th>\n",
       "      <td>3.621203</td>\n",
       "      <td>El Salvador</td>\n",
       "    </tr>\n",
       "    <tr>\n",
       "      <th>76</th>\n",
       "      <td>3.583302</td>\n",
       "      <td>Ukraine</td>\n",
       "    </tr>\n",
       "    <tr>\n",
       "      <th>25</th>\n",
       "      <td>3.500577</td>\n",
       "      <td>Colombia</td>\n",
       "    </tr>\n",
       "    <tr>\n",
       "      <th>66</th>\n",
       "      <td>3.480797</td>\n",
       "      <td>Slovenia</td>\n",
       "    </tr>\n",
       "    <tr>\n",
       "      <th>170</th>\n",
       "      <td>3.437194</td>\n",
       "      <td>Nepal</td>\n",
       "    </tr>\n",
       "    <tr>\n",
       "      <th>30</th>\n",
       "      <td>3.432966</td>\n",
       "      <td>Peru</td>\n",
       "    </tr>\n",
       "    <tr>\n",
       "      <th>18</th>\n",
       "      <td>3.415081</td>\n",
       "      <td>Belize</td>\n",
       "    </tr>\n",
       "    <tr>\n",
       "      <th>149</th>\n",
       "      <td>3.403462</td>\n",
       "      <td>Bahrain</td>\n",
       "    </tr>\n",
       "    <tr>\n",
       "      <th>119</th>\n",
       "      <td>3.396612</td>\n",
       "      <td>Angola</td>\n",
       "    </tr>\n",
       "    <tr>\n",
       "      <th>110</th>\n",
       "      <td>3.360024</td>\n",
       "      <td>Congo, Dem. Rep.</td>\n",
       "    </tr>\n",
       "    <tr>\n",
       "      <th>177</th>\n",
       "      <td>3.348526</td>\n",
       "      <td>Brunei Darussalam</td>\n",
       "    </tr>\n",
       "    <tr>\n",
       "      <th>58</th>\n",
       "      <td>3.296580</td>\n",
       "      <td>Malta</td>\n",
       "    </tr>\n",
       "    <tr>\n",
       "      <th>33</th>\n",
       "      <td>3.249616</td>\n",
       "      <td>Paraguay</td>\n",
       "    </tr>\n",
       "    <tr>\n",
       "      <th>20</th>\n",
       "      <td>3.220596</td>\n",
       "      <td>Honduras</td>\n",
       "    </tr>\n",
       "    <tr>\n",
       "      <th>111</th>\n",
       "      <td>3.218784</td>\n",
       "      <td>Uganda</td>\n",
       "    </tr>\n",
       "    <tr>\n",
       "      <th>188</th>\n",
       "      <td>3.207765</td>\n",
       "      <td>Fiji</td>\n",
       "    </tr>\n",
       "    <tr>\n",
       "      <th>160</th>\n",
       "      <td>3.157932</td>\n",
       "      <td>Macao SAR, China</td>\n",
       "    </tr>\n",
       "    <tr>\n",
       "      <th>29</th>\n",
       "      <td>3.140873</td>\n",
       "      <td>Ecuador</td>\n",
       "    </tr>\n",
       "    <tr>\n",
       "      <th>69</th>\n",
       "      <td>3.129218</td>\n",
       "      <td>Bulgaria</td>\n",
       "    </tr>\n",
       "    <tr>\n",
       "      <th>98</th>\n",
       "      <td>3.113612</td>\n",
       "      <td>Guinea</td>\n",
       "    </tr>\n",
       "    <tr>\n",
       "      <th>14</th>\n",
       "      <td>3.062122</td>\n",
       "      <td>St. Vincent and the Grenadines</td>\n",
       "    </tr>\n",
       "    <tr>\n",
       "      <th>193</th>\n",
       "      <td>3.049860</td>\n",
       "      <td>Samoa</td>\n",
       "    </tr>\n",
       "    <tr>\n",
       "      <th>45</th>\n",
       "      <td>3.036089</td>\n",
       "      <td>Liechtenstein</td>\n",
       "    </tr>\n",
       "    <tr>\n",
       "      <th>11</th>\n",
       "      <td>3.027545</td>\n",
       "      <td>Dominica</td>\n",
       "    </tr>\n",
       "    <tr>\n",
       "      <th>39</th>\n",
       "      <td>3.021688</td>\n",
       "      <td>Ireland</td>\n",
       "    </tr>\n",
       "    <tr>\n",
       "      <th>13</th>\n",
       "      <td>3.003012</td>\n",
       "      <td>St. Lucia</td>\n",
       "    </tr>\n",
       "    <tr>\n",
       "      <th>116</th>\n",
       "      <td>2.983952</td>\n",
       "      <td>Djibouti</td>\n",
       "    </tr>\n",
       "    <tr>\n",
       "      <th>12</th>\n",
       "      <td>2.973317</td>\n",
       "      <td>Grenada</td>\n",
       "    </tr>\n",
       "    <tr>\n",
       "      <th>23</th>\n",
       "      <td>2.972167</td>\n",
       "      <td>Costa Rica</td>\n",
       "    </tr>\n",
       "    <tr>\n",
       "      <th>89</th>\n",
       "      <td>2.969075</td>\n",
       "      <td>Guinea-Bissau</td>\n",
       "    </tr>\n",
       "    <tr>\n",
       "      <th>185</th>\n",
       "      <td>2.941387</td>\n",
       "      <td>Solomon Islands</td>\n",
       "    </tr>\n",
       "    <tr>\n",
       "      <th>182</th>\n",
       "      <td>2.856180</td>\n",
       "      <td>Papua New Guinea</td>\n",
       "    </tr>\n",
       "    <tr>\n",
       "      <th>60</th>\n",
       "      <td>2.814631</td>\n",
       "      <td>Montenegro</td>\n",
       "    </tr>\n",
       "    <tr>\n",
       "      <th>166</th>\n",
       "      <td>2.811618</td>\n",
       "      <td>Pakistan</td>\n",
       "    </tr>\n",
       "    <tr>\n",
       "      <th>74</th>\n",
       "      <td>2.790249</td>\n",
       "      <td>Latvia</td>\n",
       "    </tr>\n",
       "    <tr>\n",
       "      <th>73</th>\n",
       "      <td>2.759354</td>\n",
       "      <td>Estonia</td>\n",
       "    </tr>\n",
       "    <tr>\n",
       "      <th>5</th>\n",
       "      <td>2.733985</td>\n",
       "      <td>Cuba</td>\n",
       "    </tr>\n",
       "    <tr>\n",
       "      <th>156</th>\n",
       "      <td>2.723213</td>\n",
       "      <td>Kyrgyz Republic</td>\n",
       "    </tr>\n",
       "    <tr>\n",
       "      <th>144</th>\n",
       "      <td>2.653723</td>\n",
       "      <td>Jordan</td>\n",
       "    </tr>\n",
       "    <tr>\n",
       "      <th>75</th>\n",
       "      <td>2.625450</td>\n",
       "      <td>Lithuania</td>\n",
       "    </tr>\n",
       "    <tr>\n",
       "      <th>59</th>\n",
       "      <td>2.613468</td>\n",
       "      <td>Albania</td>\n",
       "    </tr>\n",
       "    <tr>\n",
       "      <th>79</th>\n",
       "      <td>2.611833</td>\n",
       "      <td>Georgia</td>\n",
       "    </tr>\n",
       "    <tr>\n",
       "      <th>162</th>\n",
       "      <td>2.572249</td>\n",
       "      <td>Korea, Rep.</td>\n",
       "    </tr>\n",
       "    <tr>\n",
       "      <th>161</th>\n",
       "      <td>2.462820</td>\n",
       "      <td>Mongolia</td>\n",
       "    </tr>\n",
       "    <tr>\n",
       "      <th>40</th>\n",
       "      <td>2.415066</td>\n",
       "      <td>Netherlands</td>\n",
       "    </tr>\n",
       "    <tr>\n",
       "      <th>155</th>\n",
       "      <td>2.370348</td>\n",
       "      <td>Tajikistan</td>\n",
       "    </tr>\n",
       "    <tr>\n",
       "      <th>78</th>\n",
       "      <td>2.348413</td>\n",
       "      <td>Armenia</td>\n",
       "    </tr>\n",
       "    <tr>\n",
       "      <th>129</th>\n",
       "      <td>2.328785</td>\n",
       "      <td>Madagascar</td>\n",
       "    </tr>\n",
       "    <tr>\n",
       "      <th>93</th>\n",
       "      <td>2.197022</td>\n",
       "      <td>Senegal</td>\n",
       "    </tr>\n",
       "    <tr>\n",
       "      <th>139</th>\n",
       "      <td>2.180613</td>\n",
       "      <td>Iran, Islamic Rep.</td>\n",
       "    </tr>\n",
       "    <tr>\n",
       "      <th>174</th>\n",
       "      <td>2.172292</td>\n",
       "      <td>Vietnam</td>\n",
       "    </tr>\n",
       "    <tr>\n",
       "      <th>87</th>\n",
       "      <td>2.148572</td>\n",
       "      <td>Cabo Verde</td>\n",
       "    </tr>\n",
       "    <tr>\n",
       "      <th>134</th>\n",
       "      <td>2.134792</td>\n",
       "      <td>Algeria</td>\n",
       "    </tr>\n",
       "    <tr>\n",
       "      <th>141</th>\n",
       "      <td>2.118722</td>\n",
       "      <td>Iraq</td>\n",
       "    </tr>\n",
       "    <tr>\n",
       "      <th>136</th>\n",
       "      <td>2.096020</td>\n",
       "      <td>Libya</td>\n",
       "    </tr>\n",
       "    <tr>\n",
       "      <th>133</th>\n",
       "      <td>2.093647</td>\n",
       "      <td>Morocco</td>\n",
       "    </tr>\n",
       "    <tr>\n",
       "      <th>77</th>\n",
       "      <td>2.072444</td>\n",
       "      <td>Belarus</td>\n",
       "    </tr>\n",
       "    <tr>\n",
       "      <th>137</th>\n",
       "      <td>2.063012</td>\n",
       "      <td>Sudan</td>\n",
       "    </tr>\n",
       "    <tr>\n",
       "      <th>26</th>\n",
       "      <td>2.060788</td>\n",
       "      <td>Venezuela, RB</td>\n",
       "    </tr>\n",
       "    <tr>\n",
       "      <th>61</th>\n",
       "      <td>2.060015</td>\n",
       "      <td>Serbia</td>\n",
       "    </tr>\n",
       "    <tr>\n",
       "      <th>80</th>\n",
       "      <td>2.059127</td>\n",
       "      <td>Azerbaijan</td>\n",
       "    </tr>\n",
       "    <tr>\n",
       "      <th>147</th>\n",
       "      <td>2.028145</td>\n",
       "      <td>Yemen, Rep.</td>\n",
       "    </tr>\n",
       "    <tr>\n",
       "      <th>157</th>\n",
       "      <td>2.022532</td>\n",
       "      <td>Uzbekistan</td>\n",
       "    </tr>\n",
       "    <tr>\n",
       "      <th>113</th>\n",
       "      <td>2.020416</td>\n",
       "      <td>Tanzania</td>\n",
       "    </tr>\n",
       "    <tr>\n",
       "      <th>117</th>\n",
       "      <td>2.018300</td>\n",
       "      <td>Ethiopia</td>\n",
       "    </tr>\n",
       "    <tr>\n",
       "      <th>154</th>\n",
       "      <td>2.003719</td>\n",
       "      <td>Turkmenistan</td>\n",
       "    </tr>\n",
       "    <tr>\n",
       "      <th>64</th>\n",
       "      <td>2.002453</td>\n",
       "      <td>Bosnia and Herzegovina</td>\n",
       "    </tr>\n",
       "    <tr>\n",
       "      <th>90</th>\n",
       "      <td>1.994597</td>\n",
       "      <td>Equatorial Guinea</td>\n",
       "    </tr>\n",
       "    <tr>\n",
       "      <th>138</th>\n",
       "      <td>1.989600</td>\n",
       "      <td>South Sudan</td>\n",
       "    </tr>\n",
       "    <tr>\n",
       "      <th>175</th>\n",
       "      <td>1.967298</td>\n",
       "      <td>Malaysia</td>\n",
       "    </tr>\n",
       "    <tr>\n",
       "      <th>153</th>\n",
       "      <td>1.962342</td>\n",
       "      <td>Afghanistan</td>\n",
       "    </tr>\n",
       "    <tr>\n",
       "      <th>2</th>\n",
       "      <td>1.958764</td>\n",
       "      <td>Bahamas, The</td>\n",
       "    </tr>\n",
       "    <tr>\n",
       "      <th>4</th>\n",
       "      <td>1.944616</td>\n",
       "      <td>Bermuda</td>\n",
       "    </tr>\n",
       "    <tr>\n",
       "      <th>196</th>\n",
       "      <td>1.941665</td>\n",
       "      <td>West Bank and Gaza</td>\n",
       "    </tr>\n",
       "    <tr>\n",
       "      <th>65</th>\n",
       "      <td>1.933832</td>\n",
       "      <td>Kosovo</td>\n",
       "    </tr>\n",
       "    <tr>\n",
       "      <th>173</th>\n",
       "      <td>1.928779</td>\n",
       "      <td>Lao PDR</td>\n",
       "    </tr>\n",
       "    <tr>\n",
       "      <th>115</th>\n",
       "      <td>1.920457</td>\n",
       "      <td>Rwanda</td>\n",
       "    </tr>\n",
       "    <tr>\n",
       "      <th>48</th>\n",
       "      <td>1.919696</td>\n",
       "      <td>Andorra</td>\n",
       "    </tr>\n",
       "    <tr>\n",
       "      <th>3</th>\n",
       "      <td>1.898633</td>\n",
       "      <td>Aruba</td>\n",
       "    </tr>\n",
       "    <tr>\n",
       "      <th>37</th>\n",
       "      <td>1.891759</td>\n",
       "      <td>Faeroe Islands</td>\n",
       "    </tr>\n",
       "    <tr>\n",
       "      <th>101</th>\n",
       "      <td>1.884638</td>\n",
       "      <td>Sierra Leone</td>\n",
       "    </tr>\n",
       "    <tr>\n",
       "      <th>57</th>\n",
       "      <td>1.879191</td>\n",
       "      <td>San Marino</td>\n",
       "    </tr>\n",
       "    <tr>\n",
       "      <th>86</th>\n",
       "      <td>1.873042</td>\n",
       "      <td>Greenland</td>\n",
       "    </tr>\n",
       "    <tr>\n",
       "      <th>118</th>\n",
       "      <td>1.851308</td>\n",
       "      <td>Eritrea</td>\n",
       "    </tr>\n",
       "    <tr>\n",
       "      <th>165</th>\n",
       "      <td>1.850123</td>\n",
       "      <td>Bhutan</td>\n",
       "    </tr>\n",
       "    <tr>\n",
       "      <th>189</th>\n",
       "      <td>1.845355</td>\n",
       "      <td>Tonga</td>\n",
       "    </tr>\n",
       "    <tr>\n",
       "      <th>100</th>\n",
       "      <td>1.825331</td>\n",
       "      <td>Liberia</td>\n",
       "    </tr>\n",
       "    <tr>\n",
       "      <th>180</th>\n",
       "      <td>1.816661</td>\n",
       "      <td>Timor-Leste</td>\n",
       "    </tr>\n",
       "    <tr>\n",
       "      <th>184</th>\n",
       "      <td>1.812329</td>\n",
       "      <td>Vanuatu</td>\n",
       "    </tr>\n",
       "    <tr>\n",
       "      <th>130</th>\n",
       "      <td>1.802203</td>\n",
       "      <td>Comoros</td>\n",
       "    </tr>\n",
       "    <tr>\n",
       "      <th>192</th>\n",
       "      <td>1.768451</td>\n",
       "      <td>Micronesia, Fed. Sts.</td>\n",
       "    </tr>\n",
       "    <tr>\n",
       "      <th>191</th>\n",
       "      <td>1.757052</td>\n",
       "      <td>Palau</td>\n",
       "    </tr>\n",
       "    <tr>\n",
       "      <th>88</th>\n",
       "      <td>1.748930</td>\n",
       "      <td>Sao Tome and Principe</td>\n",
       "    </tr>\n",
       "    <tr>\n",
       "      <th>190</th>\n",
       "      <td>1.741477</td>\n",
       "      <td>Marshall Islands</td>\n",
       "    </tr>\n",
       "    <tr>\n",
       "      <th>186</th>\n",
       "      <td>1.733972</td>\n",
       "      <td>Kiribati</td>\n",
       "    </tr>\n",
       "    <tr>\n",
       "      <th>145</th>\n",
       "      <td>1.689384</td>\n",
       "      <td>Israel</td>\n",
       "    </tr>\n",
       "    <tr>\n",
       "      <th>187</th>\n",
       "      <td>1.661906</td>\n",
       "      <td>Tuvalu</td>\n",
       "    </tr>\n",
       "    <tr>\n",
       "      <th>17</th>\n",
       "      <td>1.512520</td>\n",
       "      <td>Mexico</td>\n",
       "    </tr>\n",
       "    <tr>\n",
       "      <th>71</th>\n",
       "      <td>1.490208</td>\n",
       "      <td>Romania</td>\n",
       "    </tr>\n",
       "    <tr>\n",
       "      <th>68</th>\n",
       "      <td>1.184446</td>\n",
       "      <td>Cyprus</td>\n",
       "    </tr>\n",
       "    <tr>\n",
       "      <th>44</th>\n",
       "      <td>0.953328</td>\n",
       "      <td>Monaco</td>\n",
       "    </tr>\n",
       "    <tr>\n",
       "      <th>47</th>\n",
       "      <td>0.782005</td>\n",
       "      <td>Spain</td>\n",
       "    </tr>\n",
       "    <tr>\n",
       "      <th>31</th>\n",
       "      <td>0.774423</td>\n",
       "      <td>Brazil</td>\n",
       "    </tr>\n",
       "    <tr>\n",
       "      <th>124</th>\n",
       "      <td>0.474252</td>\n",
       "      <td>South Africa</td>\n",
       "    </tr>\n",
       "    <tr>\n",
       "      <th>51</th>\n",
       "      <td>0.054380</td>\n",
       "      <td>Poland</td>\n",
       "    </tr>\n",
       "  </tbody>\n",
       "</table>\n",
       "</div>"
      ],
      "text/plain": [
       "          Error                            pais\n",
       "0    400.463588                   United States\n",
       "72    77.921087              Russian Federation\n",
       "50    40.110095                         Germany\n",
       "159   38.970156                           China\n",
       "164   32.961204                           India\n",
       "1     22.709711                          Canada\n",
       "194   21.312424            Hong Kong SAR, China\n",
       "140   17.930809                          Turkey\n",
       "195   16.645328                     Puerto Rico\n",
       "42    16.419903                      Luxembourg\n",
       "81    16.058913                         Finland\n",
       "24    16.007766                          Panama\n",
       "104   15.949278                        Cameroon\n",
       "41    15.563726                         Belgium\n",
       "125   15.514088                         Namibia\n",
       "22    15.499996                       Nicaragua\n",
       "152   15.474907                            Oman\n",
       "7     15.223372              Dominican Republic\n",
       "84    15.194094                         Denmark\n",
       "122   15.190707                        Zimbabwe\n",
       "38    15.180131                  United Kingdom\n",
       "28    15.140599                        Suriname\n",
       "6     14.356924                           Haiti\n",
       "96    14.269285                           Niger\n",
       "36    13.572344                         Uruguay\n",
       "178   13.310820                     Philippines\n",
       "183   12.951393                     New Zealand\n",
       "34    12.507687                           Chile\n",
       "67    12.282299                          Greece\n",
       "52    11.825001                         Austria\n",
       "102   11.787680                           Ghana\n",
       "179   11.440008                       Indonesia\n",
       "169   10.960064                        Maldives\n",
       "146   10.787531                    Saudi Arabia\n",
       "150   10.377414                           Qatar\n",
       "9      9.949458             Trinidad and Tobago\n",
       "63     9.869561                         Croatia\n",
       "168    9.694692                       Sri Lanka\n",
       "106    9.445635                           Gabon\n",
       "8      9.405287                         Jamaica\n",
       "109    9.361232                     Congo, Rep.\n",
       "112    9.325456                           Kenya\n",
       "131    9.314443                       Mauritius\n",
       "108    9.313392                            Chad\n",
       "172    9.311143                        Cambodia\n",
       "99     9.251939                    Burkina Faso\n",
       "54     9.234807                  Czech Republic\n",
       "94     9.192787                           Benin\n",
       "105    9.169556                         Nigeria\n",
       "123    9.069194                          Malawi\n",
       "107    8.875459        Central African Republic\n",
       "95     8.759608                      Mauritania\n",
       "132    8.722191                      Seychelles\n",
       "103    8.691588                            Togo\n",
       "163    8.652196                           Japan\n",
       "114    8.227127                         Burundi\n",
       "91     8.116752                     Gambia, The\n",
       "35     8.051324                       Argentina\n",
       "171    8.024537                        Thailand\n",
       "27     8.010223                          Guyana\n",
       "10     7.950874                        Barbados\n",
       "16     7.805670             St. Kitts and Nevis\n",
       "83     7.641073                          Norway\n",
       "167    7.269069                      Bangladesh\n",
       "53     7.156179                         Hungary\n",
       "55     7.064722                 Slovak Republic\n",
       "82     6.268927                          Sweden\n",
       "148    6.148706                          Kuwait\n",
       "85     6.011887                         Iceland\n",
       "176    5.971175                       Singapore\n",
       "46     5.739084                     Switzerland\n",
       "128    5.363303                       Swaziland\n",
       "49     4.979347                        Portugal\n",
       "143    4.969783                         Lebanon\n",
       "43     4.941210                          France\n",
       "121    4.913879                          Zambia\n",
       "62     4.836594                  Macedonia, FYR\n",
       "92     4.645818                            Mali\n",
       "56     4.526992                           Italy\n",
       "181    4.393974                       Australia\n",
       "70     4.147786                         Moldova\n",
       "127    4.080930                        Botswana\n",
       "120    4.071678                      Mozambique\n",
       "142    3.963559                Egypt, Arab Rep.\n",
       "158    3.877565                      Kazakhstan\n",
       "15     3.845397             Antigua and Barbuda\n",
       "135    3.830464                         Tunisia\n",
       "151    3.819982            United Arab Emirates\n",
       "97     3.758266                   Cote d'Ivoire\n",
       "126    3.723722                         Lesotho\n",
       "32     3.718871                         Bolivia\n",
       "19     3.684023                       Guatemala\n",
       "21     3.621203                     El Salvador\n",
       "76     3.583302                         Ukraine\n",
       "25     3.500577                        Colombia\n",
       "66     3.480797                        Slovenia\n",
       "170    3.437194                           Nepal\n",
       "30     3.432966                            Peru\n",
       "18     3.415081                          Belize\n",
       "149    3.403462                         Bahrain\n",
       "119    3.396612                          Angola\n",
       "110    3.360024                Congo, Dem. Rep.\n",
       "177    3.348526               Brunei Darussalam\n",
       "58     3.296580                           Malta\n",
       "33     3.249616                        Paraguay\n",
       "20     3.220596                        Honduras\n",
       "111    3.218784                          Uganda\n",
       "188    3.207765                            Fiji\n",
       "160    3.157932                Macao SAR, China\n",
       "29     3.140873                         Ecuador\n",
       "69     3.129218                        Bulgaria\n",
       "98     3.113612                          Guinea\n",
       "14     3.062122  St. Vincent and the Grenadines\n",
       "193    3.049860                           Samoa\n",
       "45     3.036089                   Liechtenstein\n",
       "11     3.027545                        Dominica\n",
       "39     3.021688                         Ireland\n",
       "13     3.003012                       St. Lucia\n",
       "116    2.983952                        Djibouti\n",
       "12     2.973317                         Grenada\n",
       "23     2.972167                      Costa Rica\n",
       "89     2.969075                   Guinea-Bissau\n",
       "185    2.941387                 Solomon Islands\n",
       "182    2.856180                Papua New Guinea\n",
       "60     2.814631                      Montenegro\n",
       "166    2.811618                        Pakistan\n",
       "74     2.790249                          Latvia\n",
       "73     2.759354                         Estonia\n",
       "5      2.733985                            Cuba\n",
       "156    2.723213                 Kyrgyz Republic\n",
       "144    2.653723                          Jordan\n",
       "75     2.625450                       Lithuania\n",
       "59     2.613468                         Albania\n",
       "79     2.611833                         Georgia\n",
       "162    2.572249                     Korea, Rep.\n",
       "161    2.462820                        Mongolia\n",
       "40     2.415066                     Netherlands\n",
       "155    2.370348                      Tajikistan\n",
       "78     2.348413                         Armenia\n",
       "129    2.328785                      Madagascar\n",
       "93     2.197022                         Senegal\n",
       "139    2.180613              Iran, Islamic Rep.\n",
       "174    2.172292                         Vietnam\n",
       "87     2.148572                      Cabo Verde\n",
       "134    2.134792                         Algeria\n",
       "141    2.118722                            Iraq\n",
       "136    2.096020                           Libya\n",
       "133    2.093647                         Morocco\n",
       "77     2.072444                         Belarus\n",
       "137    2.063012                           Sudan\n",
       "26     2.060788                   Venezuela, RB\n",
       "61     2.060015                          Serbia\n",
       "80     2.059127                      Azerbaijan\n",
       "147    2.028145                     Yemen, Rep.\n",
       "157    2.022532                      Uzbekistan\n",
       "113    2.020416                        Tanzania\n",
       "117    2.018300                        Ethiopia\n",
       "154    2.003719                    Turkmenistan\n",
       "64     2.002453          Bosnia and Herzegovina\n",
       "90     1.994597               Equatorial Guinea\n",
       "138    1.989600                     South Sudan\n",
       "175    1.967298                        Malaysia\n",
       "153    1.962342                     Afghanistan\n",
       "2      1.958764                    Bahamas, The\n",
       "4      1.944616                         Bermuda\n",
       "196    1.941665              West Bank and Gaza\n",
       "65     1.933832                          Kosovo\n",
       "173    1.928779                         Lao PDR\n",
       "115    1.920457                          Rwanda\n",
       "48     1.919696                         Andorra\n",
       "3      1.898633                           Aruba\n",
       "37     1.891759                  Faeroe Islands\n",
       "101    1.884638                    Sierra Leone\n",
       "57     1.879191                      San Marino\n",
       "86     1.873042                       Greenland\n",
       "118    1.851308                         Eritrea\n",
       "165    1.850123                          Bhutan\n",
       "189    1.845355                           Tonga\n",
       "100    1.825331                         Liberia\n",
       "180    1.816661                     Timor-Leste\n",
       "184    1.812329                         Vanuatu\n",
       "130    1.802203                         Comoros\n",
       "192    1.768451           Micronesia, Fed. Sts.\n",
       "191    1.757052                           Palau\n",
       "88     1.748930           Sao Tome and Principe\n",
       "190    1.741477                Marshall Islands\n",
       "186    1.733972                        Kiribati\n",
       "145    1.689384                          Israel\n",
       "187    1.661906                          Tuvalu\n",
       "17     1.512520                          Mexico\n",
       "71     1.490208                         Romania\n",
       "68     1.184446                          Cyprus\n",
       "44     0.953328                          Monaco\n",
       "47     0.782005                           Spain\n",
       "31     0.774423                          Brazil\n",
       "124    0.474252                    South Africa\n",
       "51     0.054380                          Poland"
      ]
     },
     "execution_count": 55,
     "metadata": {},
     "output_type": "execute_result"
    }
   ],
   "source": [
    "dataError = pd.DataFrame(errorAbsoluto, columns = ['Error'])\n",
    "dataPais = temp['pais']\n",
    "frame = dataError.join(dataPais)\n",
    "finalFrame = frame.sort_values('Error',ascending=False)\n",
    "finalFrame"
   ]
  },
  {
   "cell_type": "code",
   "execution_count": 56,
   "metadata": {
    "scrolled": true
   },
   "outputs": [
    {
     "data": {
      "text/plain": [
       "<matplotlib.axes._subplots.AxesSubplot at 0x1ae810b07f0>"
      ]
     },
     "execution_count": 56,
     "metadata": {},
     "output_type": "execute_result"
    },
    {
     "data": {
      "image/png": "[encoded data removed]",
      "text/plain": [
       "<Figure size 3600x1080 with 1 Axes>"
      ]
     },
     "metadata": {
      "needs_background": "light"
     },
     "output_type": "display_data"
    }
   ],
   "source": [
    "import matplotlib.pyplot as plt\n",
    "%matplotlib inline\n",
    "\n",
    "finalFrame.plot(kind = 'bar',figsize=(50,15))"
   ]
  },
  {
   "cell_type": "markdown",
   "metadata": {},
   "source": [
    "* Los paises con mayor error son Estados unidos, Rusia, Alemania, China e India, esto se debe a que nuestros valores predecidos son bajos, por lo que los valores originales al ser muy altos no presentan un error alto."
   ]
  },
  {
   "cell_type": "markdown",
   "metadata": {},
   "source": [
    "* Los paises con un exceso de billonarios son rusia y estados unidos, aunque si hablamos de exceso a comparacion de los valores originales, hay que entender que la mayoria de los ultimos paises que estan en el dataframe serian excesos, dado que sus valores originalmente son 0"
   ]
  },
  {
   "cell_type": "markdown",
   "metadata": {},
   "source": [
    "* Dado a nuestros nuevos valores, es inesperado que los pimeros 5 tengan tan pocos billonarios a comparacion de la cantidad real, cosa bastante extraña cuando nos damos cuenta que paises como mexico tienen un valor bastante cercano al original"
   ]
  },
  {
   "cell_type": "markdown",
   "metadata": {},
   "source": [
    "* Dado a nuestros resultado, al parecer rusia tendria una cantidad menor de billonarios, aunque es algo que comparte junto a estados unidos a menor escala."
   ]
  },
  {
   "cell_type": "markdown",
   "metadata": {},
   "source": [
    "## Conclusiones (0.5pt)\n",
    "\n",
    "Resuma sus principales hallazgos y comenté sobre las desafios encontrados al desarrollar esta tarea "
   ]
  },
  {
   "cell_type": "markdown",
   "metadata": {},
   "source": [
    "Podemos decir que de las principales cosas que podemos notar es que los paises con mayores tasas de billonarios sufren un cambio bastante grande al intentar inferir un valor sobre ellos, esto es debido a que tienen una cantidad tan masiva a comparacion de los demas, rompen el equilibrio demasiado facil y al intentar inferir los valores, tienden a ser mas equilibrados los resultados en general. Por lo que creemos que es bastante dificil sacar buenos resultados si hay elementos con una diferencia demasiado alta a comparacion del promedio.\n",
    "\n",
    "Los atributos del pais que se usaron en la investigacion puede que no sean los mejores para realizar las estimacion de billonarios de un pais, ya que existen paises talen como puerto rico que al tener unos atributos de alta calidad, nos da como resultado una cantidad de billonarios alta, sin embargo, esto contradice a los valores originales debido a que no presentan ninguno.\n",
    "\n",
    "Los desafios mas grandes fueron poder tener una funcion con la que pudieramos trabajar bien, dado a que la reducimos todo lo posible dado a nuestro conocimientos, pero aun asi la encontramos ineficiente.\n",
    "Otro punto seria el tema de poder usar las funciones minimize, ya que naturalmente nos daban valores demasiados altos debido al comportamiento de la funcion, por lo que no sabiamos si los resultados que se nos otorgaban podian ser efectivos o aunque sea correctos."
   ]
  }
 ],
 "metadata": {
  "kernelspec": {
   "display_name": "Python 3",
   "language": "python",
   "name": "python3"
  },
  "language_info": {
   "codemirror_mode": {
    "name": "ipython",
    "version": 3
   },
   "file_extension": ".py",
   "mimetype": "text/x-python",
   "name": "python",
   "nbconvert_exporter": "python",
   "pygments_lexer": "ipython3",
   "version": "3.8.3"
  },
  "toc": {
   "base_numbering": 1,
   "nav_menu": {},
   "number_sections": true,
   "sideBar": true,
   "skip_h1_title": false,
   "title_cell": "Table of Contents",
   "title_sidebar": "Contents",
   "toc_cell": false,
   "toc_position": {},
   "toc_section_display": true,
   "toc_window_display": false
  }
 },
 "nbformat": 4,
 "nbformat_minor": 4
}
